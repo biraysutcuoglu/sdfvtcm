{
 "cells": [
  {
   "cell_type": "markdown",
   "metadata": {},
   "source": [
    "Inference Notebook for Tool dataset\n",
    "- Model path: \"artisanalwasp/resized_tool_dataset_model\"\n",
    "- Training Dataset: \"artisanalwasp/resized_tool_dataset\" "
   ]
  },
  {
   "cell_type": "markdown",
   "metadata": {},
   "source": [
    "- Install dependencies"
   ]
  },
  {
   "cell_type": "code",
   "execution_count": 1,
   "metadata": {},
   "outputs": [
    {
     "name": "stdout",
     "output_type": "stream",
     "text": [
      "Requirement already satisfied: peft in /home/bsuetcueoglu/miniconda3/envs/thesis-all-modules-env/lib/python3.13/site-packages (0.14.0)\n",
      "Collecting peft\n",
      "  Downloading peft-0.15.1-py3-none-any.whl.metadata (13 kB)\n",
      "Requirement already satisfied: transformers in /home/bsuetcueoglu/miniconda3/envs/thesis-all-modules-env/lib/python3.13/site-packages (4.49.0)\n",
      "Collecting transformers\n",
      "  Downloading transformers-4.50.3-py3-none-any.whl.metadata (39 kB)\n",
      "Requirement already satisfied: diffusers in /home/bsuetcueoglu/miniconda3/envs/thesis-all-modules-env/lib/python3.13/site-packages (0.32.2)\n",
      "Requirement already satisfied: numpy>=1.17 in /home/bsuetcueoglu/miniconda3/envs/thesis-all-modules-env/lib/python3.13/site-packages (from peft) (1.26.4)\n",
      "Requirement already satisfied: packaging>=20.0 in /home/bsuetcueoglu/miniconda3/envs/thesis-all-modules-env/lib/python3.13/site-packages (from peft) (24.2)\n",
      "Requirement already satisfied: psutil in /home/bsuetcueoglu/miniconda3/envs/thesis-all-modules-env/lib/python3.13/site-packages (from peft) (6.1.1)\n",
      "Requirement already satisfied: pyyaml in /home/bsuetcueoglu/miniconda3/envs/thesis-all-modules-env/lib/python3.13/site-packages (from peft) (6.0.2)\n",
      "Requirement already satisfied: torch>=1.13.0 in /home/bsuetcueoglu/miniconda3/envs/thesis-all-modules-env/lib/python3.13/site-packages (from peft) (2.6.0)\n",
      "Requirement already satisfied: tqdm in /home/bsuetcueoglu/miniconda3/envs/thesis-all-modules-env/lib/python3.13/site-packages (from peft) (4.67.1)\n",
      "Requirement already satisfied: accelerate>=0.21.0 in /home/bsuetcueoglu/miniconda3/envs/thesis-all-modules-env/lib/python3.13/site-packages (from peft) (1.4.0)\n",
      "Requirement already satisfied: safetensors in /home/bsuetcueoglu/miniconda3/envs/thesis-all-modules-env/lib/python3.13/site-packages (from peft) (0.5.2)\n",
      "Requirement already satisfied: huggingface_hub>=0.25.0 in /home/bsuetcueoglu/miniconda3/envs/thesis-all-modules-env/lib/python3.13/site-packages (from peft) (0.28.0)\n",
      "Requirement already satisfied: filelock in /home/bsuetcueoglu/miniconda3/envs/thesis-all-modules-env/lib/python3.13/site-packages (from transformers) (3.17.0)\n",
      "Requirement already satisfied: regex!=2019.12.17 in /home/bsuetcueoglu/miniconda3/envs/thesis-all-modules-env/lib/python3.13/site-packages (from transformers) (2024.11.6)\n",
      "Requirement already satisfied: requests in /home/bsuetcueoglu/miniconda3/envs/thesis-all-modules-env/lib/python3.13/site-packages (from transformers) (2.32.3)\n",
      "Requirement already satisfied: tokenizers<0.22,>=0.21 in /home/bsuetcueoglu/miniconda3/envs/thesis-all-modules-env/lib/python3.13/site-packages (from transformers) (0.21.0)\n",
      "Requirement already satisfied: importlib-metadata in /home/bsuetcueoglu/miniconda3/envs/thesis-all-modules-env/lib/python3.13/site-packages (from diffusers) (8.6.1)\n",
      "Requirement already satisfied: Pillow in /home/bsuetcueoglu/miniconda3/envs/thesis-all-modules-env/lib/python3.13/site-packages (from diffusers) (11.1.0)\n",
      "Requirement already satisfied: fsspec>=2023.5.0 in /home/bsuetcueoglu/miniconda3/envs/thesis-all-modules-env/lib/python3.13/site-packages (from huggingface_hub>=0.25.0->peft) (2024.12.0)\n",
      "Requirement already satisfied: typing-extensions>=3.7.4.3 in /home/bsuetcueoglu/miniconda3/envs/thesis-all-modules-env/lib/python3.13/site-packages (from huggingface_hub>=0.25.0->peft) (4.12.2)\n",
      "Requirement already satisfied: networkx in /home/bsuetcueoglu/miniconda3/envs/thesis-all-modules-env/lib/python3.13/site-packages (from torch>=1.13.0->peft) (3.4.2)\n",
      "Requirement already satisfied: jinja2 in /home/bsuetcueoglu/miniconda3/envs/thesis-all-modules-env/lib/python3.13/site-packages (from torch>=1.13.0->peft) (3.1.5)\n",
      "Requirement already satisfied: nvidia-cuda-nvrtc-cu12==12.4.127 in /home/bsuetcueoglu/miniconda3/envs/thesis-all-modules-env/lib/python3.13/site-packages (from torch>=1.13.0->peft) (12.4.127)\n",
      "Requirement already satisfied: nvidia-cuda-runtime-cu12==12.4.127 in /home/bsuetcueoglu/miniconda3/envs/thesis-all-modules-env/lib/python3.13/site-packages (from torch>=1.13.0->peft) (12.4.127)\n",
      "Requirement already satisfied: nvidia-cuda-cupti-cu12==12.4.127 in /home/bsuetcueoglu/miniconda3/envs/thesis-all-modules-env/lib/python3.13/site-packages (from torch>=1.13.0->peft) (12.4.127)\n",
      "Requirement already satisfied: nvidia-cudnn-cu12==9.1.0.70 in /home/bsuetcueoglu/miniconda3/envs/thesis-all-modules-env/lib/python3.13/site-packages (from torch>=1.13.0->peft) (9.1.0.70)\n",
      "Requirement already satisfied: nvidia-cublas-cu12==12.4.5.8 in /home/bsuetcueoglu/miniconda3/envs/thesis-all-modules-env/lib/python3.13/site-packages (from torch>=1.13.0->peft) (12.4.5.8)\n",
      "Requirement already satisfied: nvidia-cufft-cu12==11.2.1.3 in /home/bsuetcueoglu/miniconda3/envs/thesis-all-modules-env/lib/python3.13/site-packages (from torch>=1.13.0->peft) (11.2.1.3)\n",
      "Requirement already satisfied: nvidia-curand-cu12==10.3.5.147 in /home/bsuetcueoglu/miniconda3/envs/thesis-all-modules-env/lib/python3.13/site-packages (from torch>=1.13.0->peft) (10.3.5.147)\n",
      "Requirement already satisfied: nvidia-cusolver-cu12==11.6.1.9 in /home/bsuetcueoglu/miniconda3/envs/thesis-all-modules-env/lib/python3.13/site-packages (from torch>=1.13.0->peft) (11.6.1.9)\n",
      "Requirement already satisfied: nvidia-cusparse-cu12==12.3.1.170 in /home/bsuetcueoglu/miniconda3/envs/thesis-all-modules-env/lib/python3.13/site-packages (from torch>=1.13.0->peft) (12.3.1.170)\n",
      "Requirement already satisfied: nvidia-cusparselt-cu12==0.6.2 in /home/bsuetcueoglu/miniconda3/envs/thesis-all-modules-env/lib/python3.13/site-packages (from torch>=1.13.0->peft) (0.6.2)\n",
      "Requirement already satisfied: nvidia-nccl-cu12==2.21.5 in /home/bsuetcueoglu/miniconda3/envs/thesis-all-modules-env/lib/python3.13/site-packages (from torch>=1.13.0->peft) (2.21.5)\n",
      "Requirement already satisfied: nvidia-nvtx-cu12==12.4.127 in /home/bsuetcueoglu/miniconda3/envs/thesis-all-modules-env/lib/python3.13/site-packages (from torch>=1.13.0->peft) (12.4.127)\n",
      "Requirement already satisfied: nvidia-nvjitlink-cu12==12.4.127 in /home/bsuetcueoglu/miniconda3/envs/thesis-all-modules-env/lib/python3.13/site-packages (from torch>=1.13.0->peft) (12.4.127)\n",
      "Requirement already satisfied: triton==3.2.0 in /home/bsuetcueoglu/miniconda3/envs/thesis-all-modules-env/lib/python3.13/site-packages (from torch>=1.13.0->peft) (3.2.0)\n",
      "Requirement already satisfied: setuptools in /home/bsuetcueoglu/miniconda3/envs/thesis-all-modules-env/lib/python3.13/site-packages (from torch>=1.13.0->peft) (75.8.0)\n",
      "Requirement already satisfied: sympy==1.13.1 in /home/bsuetcueoglu/miniconda3/envs/thesis-all-modules-env/lib/python3.13/site-packages (from torch>=1.13.0->peft) (1.13.1)\n",
      "Requirement already satisfied: mpmath<1.4,>=1.1.0 in /home/bsuetcueoglu/miniconda3/envs/thesis-all-modules-env/lib/python3.13/site-packages (from sympy==1.13.1->torch>=1.13.0->peft) (1.3.0)\n",
      "Requirement already satisfied: zipp>=3.20 in /home/bsuetcueoglu/miniconda3/envs/thesis-all-modules-env/lib/python3.13/site-packages (from importlib-metadata->diffusers) (3.21.0)\n",
      "Requirement already satisfied: charset-normalizer<4,>=2 in /home/bsuetcueoglu/miniconda3/envs/thesis-all-modules-env/lib/python3.13/site-packages (from requests->transformers) (3.4.1)\n",
      "Requirement already satisfied: idna<4,>=2.5 in /home/bsuetcueoglu/miniconda3/envs/thesis-all-modules-env/lib/python3.13/site-packages (from requests->transformers) (3.10)\n",
      "Requirement already satisfied: urllib3<3,>=1.21.1 in /home/bsuetcueoglu/miniconda3/envs/thesis-all-modules-env/lib/python3.13/site-packages (from requests->transformers) (2.3.0)\n",
      "Requirement already satisfied: certifi>=2017.4.17 in /home/bsuetcueoglu/miniconda3/envs/thesis-all-modules-env/lib/python3.13/site-packages (from requests->transformers) (2024.12.14)\n",
      "Requirement already satisfied: MarkupSafe>=2.0 in /home/bsuetcueoglu/miniconda3/envs/thesis-all-modules-env/lib/python3.13/site-packages (from jinja2->torch>=1.13.0->peft) (3.0.2)\n",
      "Downloading peft-0.15.1-py3-none-any.whl (411 kB)\n",
      "Downloading transformers-4.50.3-py3-none-any.whl (10.2 MB)\n",
      "\u001b[2K   \u001b[90m━━━━━━━━━━━━━━━━━━━━━━━━━━━━━━━━━━━━━━━━\u001b[0m \u001b[32m10.2/10.2 MB\u001b[0m \u001b[31m10.5 MB/s\u001b[0m eta \u001b[36m0:00:00\u001b[0m00:01\u001b[0m0:01\u001b[0m\n",
      "\u001b[?25hInstalling collected packages: transformers, peft\n",
      "  Attempting uninstall: transformers\n",
      "    Found existing installation: transformers 4.49.0\n",
      "    Uninstalling transformers-4.49.0:\n",
      "      Successfully uninstalled transformers-4.49.0\n",
      "  Attempting uninstall: peft\n",
      "    Found existing installation: peft 0.14.0\n",
      "    Uninstalling peft-0.14.0:\n",
      "      Successfully uninstalled peft-0.14.0\n",
      "Successfully installed peft-0.15.1 transformers-4.50.3\n"
     ]
    }
   ],
   "source": [
    "! pip install -U peft transformers diffusers"
   ]
  },
  {
   "cell_type": "markdown",
   "metadata": {},
   "source": [
    "Diffusers Pipeline Setup        \n",
    "Loading Stable Diffusion XL Base 1.0 as base model then attaching LoRa adapters\n"
   ]
  },
  {
   "cell_type": "code",
   "execution_count": 1,
   "metadata": {},
   "outputs": [
    {
     "name": "stderr",
     "output_type": "stream",
     "text": [
      "/home/bsuetcueoglu/miniconda3/envs/thesis-all-modules-env/lib/python3.13/site-packages/tqdm/auto.py:21: TqdmWarning: IProgress not found. Please update jupyter and ipywidgets. See https://ipywidgets.readthedocs.io/en/stable/user_install.html\n",
      "  from .autonotebook import tqdm as notebook_tqdm\n",
      "Loading pipeline components...: 100%|██████████| 7/7 [00:01<00:00,  5.52it/s]\n"
     ]
    },
    {
     "name": "stdout",
     "output_type": "stream",
     "text": [
      "Name of the model:  resized_tool_dataset_model_batchsize2\n"
     ]
    }
   ],
   "source": [
    "%load_ext autoreload\n",
    "%autoreload 2\n",
    "\n",
    "from diffusers import DiffusionPipeline\n",
    "import torch\n",
    "import os\n",
    "from src.prompt_generator import PromptGenerator\n",
    "\n",
    "pipe = DiffusionPipeline.from_pretrained(\n",
    "    \"stabilityai/stable-diffusion-xl-base-1.0\",\n",
    "    torch_dtype=torch.float16,\n",
    "    variant=\"fp16\",\n",
    "    use_safetensors=True,\n",
    ").to(\"cuda\")\n",
    "\n",
    "# Optional CPU offloading to save same GPU memory\n",
    "pipe.enable_model_cpu_offload()\n",
    "\n",
    "model_path = \"artisanalwasp/resized_tool_dataset_model_batchsize2\"\n",
    "model_name = (model_path).split(\"/\")[-1]\n",
    "print(\"Name of the model: \", model_name)\n",
    "\n",
    "# Loading Trained LoRa weights\n",
    "pipe.load_lora_weights(model_path)"
   ]
  },
  {
   "cell_type": "markdown",
   "metadata": {},
   "source": [
    "Generate prompts for different wear severities\n",
    "- Wear severities can be *low*, *moderate* or *high*"
   ]
  },
  {
   "cell_type": "code",
   "execution_count": null,
   "metadata": {},
   "outputs": [
    {
     "name": "stderr",
     "output_type": "stream",
     "text": [
      "100%|██████████| 50/50 [00:09<00:00,  5.20it/s]\n"
     ]
    },
    {
     "name": "stdout",
     "output_type": "stream",
     "text": [
      "Time taken to generate image 1: 11.46 seconds\n"
     ]
    }
   ],
   "source": [
    "total_num_images = 50\n",
    "tool_type = \"Insert\"\n",
    "wear_severities = [\"Low Wear\", \"Moderate Wear\", \"High Wear\"]\n",
    "\n",
    "os.makedirs(f\"./generated_images/{model_name}/not_resized/random/\", exist_ok=True)\n",
    "\n",
    "for i in range(total_num_images):\n",
    "    \n",
    "    prompt = PromptGenerator.generate_random_prompt_for_tool_dataset(tool_type, wear_severities)\n",
    "    \n",
    "    image = pipe(\n",
    "        prompt=prompt,\n",
    "        num_inference_steps=50,\n",
    "        width=1024,\n",
    "        height=1024,\n",
    "        guidance_scale= 7.0 #how much to prompt effects the generated image\n",
    "    ).images[0]\n",
    "\n",
    "    image.save(f\"./generated_images/{model_name}/not_resized/random/{prompt}_{i}.png\")"
   ]
  },
  {
   "cell_type": "markdown",
   "metadata": {},
   "source": [
    "Resize Generated Images to the Original Size\n",
    "- Images in Tool Dataset are 2392x1144 pixels"
   ]
  },
  {
   "cell_type": "code",
   "execution_count": 7,
   "metadata": {},
   "outputs": [
    {
     "name": "stdout",
     "output_type": "stream",
     "text": [
      "50 images are resized to 2392x1144 using lanczos and saved to Data/Tool_dataset/generated/images\n"
     ]
    }
   ],
   "source": [
    "import os\n",
    "target_dir = \"sdfvtcm\"\n",
    "cwd = os.getcwd()\n",
    "if not cwd.endswith(target_dir):\n",
    "    os.chdir(os.pardir)\n",
    "\n",
    "from DatasetPreprocessor.src.image_preprocessor_utils import ImageUtils\n",
    "\n",
    "generated_images_dir = \"ImageGenerationwithStableDiff/generated_images/resized_tool_dataset_model_batchsize2/not_resized/random/\"\n",
    "resized_images_dir = \"Data/Tool_dataset/generated/images\"\n",
    "ImageUtils.resize_all_images(generated_images_dir, resized_images_dir, \"lanczos\", 2392, 1144)"
   ]
  },
  {
   "cell_type": "markdown",
   "metadata": {},
   "source": [
    "Annotate Images Manually and Convert COCO annotations to Binary Masks"
   ]
  },
  {
   "cell_type": "code",
   "execution_count": 2,
   "metadata": {},
   "outputs": [
    {
     "name": "stdout",
     "output_type": "stream",
     "text": [
      "Binary masks saved to ./Data/Tool_dataset/generated/gen_10/binary_masks_10/\n",
      "Binary masks saved to ./Data/Tool_dataset/generated/gen_20/binary_masks_20/\n",
      "Binary masks saved to ./Data/Tool_dataset/generated/gen_30/binary_masks_30/\n"
     ]
    }
   ],
   "source": [
    "import os\n",
    "target_dir = \"sdfvtcm\"\n",
    "cwd = os.getcwd()\n",
    "if not cwd.endswith(target_dir):\n",
    "    os.chdir(os.pardir)\n",
    "\n",
    "from DatasetPreprocessor.src.coco_to_binary_converter import COCOtoBinaryConverter\n",
    "\n",
    "coco_ann_path = \"./Data/Tool_dataset/generated/gen_10/generated_10/labels_td_10.json\"\n",
    "binary_masks_dir = \"./Data/Tool_dataset/generated/gen_10/binary_masks_10/\"\n",
    "COCOtoBinaryConverter.create_masks(coco_ann_path, 1, binary_masks_dir)\n",
    "\n",
    "coco_ann_path_20 = \"./Data/Tool_dataset/generated/gen_20/generated_20/labels_td_20.json\"\n",
    "binary_masks_dir_20 = \"./Data/Tool_dataset/generated/gen_20/binary_masks_20/\"\n",
    "COCOtoBinaryConverter.create_masks(coco_ann_path_20, 1, binary_masks_dir_20)\n",
    "\n",
    "coco_ann_path_30 = \"./Data/Tool_dataset/generated/gen_30/generated_30/labels_td_30.json\"\n",
    "binary_masks_dir_30 = \"./Data/Tool_dataset/generated/gen_30/binary_masks_30/\"\n",
    "COCOtoBinaryConverter.create_masks(coco_ann_path_30, 1, binary_masks_dir_30)"
   ]
  }
 ],
 "metadata": {
  "kernelspec": {
   "display_name": "thesis-all-modules-env",
   "language": "python",
   "name": "python3"
  },
  "language_info": {
   "codemirror_mode": {
    "name": "ipython",
    "version": 3
   },
   "file_extension": ".py",
   "mimetype": "text/x-python",
   "name": "python",
   "nbconvert_exporter": "python",
   "pygments_lexer": "ipython3",
   "version": "3.13.1"
  }
 },
 "nbformat": 4,
 "nbformat_minor": 2
}
