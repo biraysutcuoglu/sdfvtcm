{
 "cells": [
  {
   "cell_type": "markdown",
   "metadata": {},
   "source": [
    "Inference Notebook for FBA dataset\n",
    "- Model path: \"sdxl-base-1.0-fbadataset5e-4-lrwrmp0-ep20-withoutpadding-noflip-lora-newlabels\"\n",
    "- Training Dataset: \"artisanalwasp/resized_fba_with_lanczos_wo_wearscores_refactoredlabels\" "
   ]
  },
  {
   "cell_type": "markdown",
   "metadata": {},
   "source": [
    "- Install dependencies"
   ]
  },
  {
   "cell_type": "code",
   "execution_count": 1,
   "metadata": {},
   "outputs": [
    {
     "name": "stdout",
     "output_type": "stream",
     "text": [
      "Requirement already satisfied: peft in /home/bsuetcueoglu/testprojectthesis/thesistest/thesisProjectTestEnv/lib/python3.10/site-packages (0.7.0)\n",
      "Collecting peft\n",
      "  Downloading peft-0.15.2-py3-none-any.whl.metadata (13 kB)\n",
      "Requirement already satisfied: transformers in /home/bsuetcueoglu/testprojectthesis/thesistest/thesisProjectTestEnv/lib/python3.10/site-packages (4.51.3)\n",
      "Requirement already satisfied: diffusers in /home/bsuetcueoglu/testprojectthesis/thesistest/thesisProjectTestEnv/lib/python3.10/site-packages (0.34.0.dev0)\n",
      "Requirement already satisfied: numpy>=1.17 in /home/bsuetcueoglu/testprojectthesis/thesistest/thesisProjectTestEnv/lib/python3.10/site-packages (from peft) (1.26.4)\n",
      "Requirement already satisfied: packaging>=20.0 in /home/bsuetcueoglu/testprojectthesis/thesistest/thesisProjectTestEnv/lib/python3.10/site-packages (from peft) (25.0)\n",
      "Requirement already satisfied: psutil in /home/bsuetcueoglu/testprojectthesis/thesistest/thesisProjectTestEnv/lib/python3.10/site-packages (from peft) (7.0.0)\n",
      "Requirement already satisfied: pyyaml in /home/bsuetcueoglu/testprojectthesis/thesistest/thesisProjectTestEnv/lib/python3.10/site-packages (from peft) (6.0.2)\n",
      "Requirement already satisfied: torch>=1.13.0 in /home/bsuetcueoglu/testprojectthesis/thesistest/thesisProjectTestEnv/lib/python3.10/site-packages (from peft) (2.6.0)\n",
      "Requirement already satisfied: tqdm in /home/bsuetcueoglu/testprojectthesis/thesistest/thesisProjectTestEnv/lib/python3.10/site-packages (from peft) (4.67.1)\n",
      "Requirement already satisfied: accelerate>=0.21.0 in /home/bsuetcueoglu/testprojectthesis/thesistest/thesisProjectTestEnv/lib/python3.10/site-packages (from peft) (1.6.0)\n",
      "Requirement already satisfied: safetensors in /home/bsuetcueoglu/testprojectthesis/thesistest/thesisProjectTestEnv/lib/python3.10/site-packages (from peft) (0.5.3)\n",
      "Requirement already satisfied: huggingface_hub>=0.25.0 in /home/bsuetcueoglu/testprojectthesis/thesistest/thesisProjectTestEnv/lib/python3.10/site-packages (from peft) (0.30.2)\n",
      "Requirement already satisfied: filelock in /home/bsuetcueoglu/testprojectthesis/thesistest/thesisProjectTestEnv/lib/python3.10/site-packages (from transformers) (3.18.0)\n",
      "Requirement already satisfied: regex!=2019.12.17 in /home/bsuetcueoglu/testprojectthesis/thesistest/thesisProjectTestEnv/lib/python3.10/site-packages (from transformers) (2024.11.6)\n",
      "Requirement already satisfied: requests in /home/bsuetcueoglu/testprojectthesis/thesistest/thesisProjectTestEnv/lib/python3.10/site-packages (from transformers) (2.32.3)\n",
      "Requirement already satisfied: tokenizers<0.22,>=0.21 in /home/bsuetcueoglu/testprojectthesis/thesistest/thesisProjectTestEnv/lib/python3.10/site-packages (from transformers) (0.21.1)\n",
      "Requirement already satisfied: importlib_metadata in /home/bsuetcueoglu/testprojectthesis/thesistest/thesisProjectTestEnv/lib/python3.10/site-packages (from diffusers) (8.6.1)\n",
      "Requirement already satisfied: Pillow in /home/bsuetcueoglu/testprojectthesis/thesistest/thesisProjectTestEnv/lib/python3.10/site-packages (from diffusers) (11.2.1)\n",
      "Requirement already satisfied: fsspec>=2023.5.0 in /home/bsuetcueoglu/testprojectthesis/thesistest/thesisProjectTestEnv/lib/python3.10/site-packages (from huggingface_hub>=0.25.0->peft) (2024.12.0)\n",
      "Requirement already satisfied: typing-extensions>=3.7.4.3 in /home/bsuetcueoglu/testprojectthesis/thesistest/thesisProjectTestEnv/lib/python3.10/site-packages (from huggingface_hub>=0.25.0->peft) (4.13.2)\n",
      "Requirement already satisfied: networkx in /home/bsuetcueoglu/testprojectthesis/thesistest/thesisProjectTestEnv/lib/python3.10/site-packages (from torch>=1.13.0->peft) (3.4.2)\n",
      "Requirement already satisfied: jinja2 in /home/bsuetcueoglu/testprojectthesis/thesistest/thesisProjectTestEnv/lib/python3.10/site-packages (from torch>=1.13.0->peft) (3.1.6)\n",
      "Requirement already satisfied: nvidia-cuda-nvrtc-cu12==12.4.127 in /home/bsuetcueoglu/testprojectthesis/thesistest/thesisProjectTestEnv/lib/python3.10/site-packages (from torch>=1.13.0->peft) (12.4.127)\n",
      "Requirement already satisfied: nvidia-cuda-runtime-cu12==12.4.127 in /home/bsuetcueoglu/testprojectthesis/thesistest/thesisProjectTestEnv/lib/python3.10/site-packages (from torch>=1.13.0->peft) (12.4.127)\n",
      "Requirement already satisfied: nvidia-cuda-cupti-cu12==12.4.127 in /home/bsuetcueoglu/testprojectthesis/thesistest/thesisProjectTestEnv/lib/python3.10/site-packages (from torch>=1.13.0->peft) (12.4.127)\n",
      "Requirement already satisfied: nvidia-cudnn-cu12==9.1.0.70 in /home/bsuetcueoglu/testprojectthesis/thesistest/thesisProjectTestEnv/lib/python3.10/site-packages (from torch>=1.13.0->peft) (9.1.0.70)\n",
      "Requirement already satisfied: nvidia-cublas-cu12==12.4.5.8 in /home/bsuetcueoglu/testprojectthesis/thesistest/thesisProjectTestEnv/lib/python3.10/site-packages (from torch>=1.13.0->peft) (12.4.5.8)\n",
      "Requirement already satisfied: nvidia-cufft-cu12==11.2.1.3 in /home/bsuetcueoglu/testprojectthesis/thesistest/thesisProjectTestEnv/lib/python3.10/site-packages (from torch>=1.13.0->peft) (11.2.1.3)\n",
      "Requirement already satisfied: nvidia-curand-cu12==10.3.5.147 in /home/bsuetcueoglu/testprojectthesis/thesistest/thesisProjectTestEnv/lib/python3.10/site-packages (from torch>=1.13.0->peft) (10.3.5.147)\n",
      "Requirement already satisfied: nvidia-cusolver-cu12==11.6.1.9 in /home/bsuetcueoglu/testprojectthesis/thesistest/thesisProjectTestEnv/lib/python3.10/site-packages (from torch>=1.13.0->peft) (11.6.1.9)\n",
      "Requirement already satisfied: nvidia-cusparse-cu12==12.3.1.170 in /home/bsuetcueoglu/testprojectthesis/thesistest/thesisProjectTestEnv/lib/python3.10/site-packages (from torch>=1.13.0->peft) (12.3.1.170)\n",
      "Requirement already satisfied: nvidia-cusparselt-cu12==0.6.2 in /home/bsuetcueoglu/testprojectthesis/thesistest/thesisProjectTestEnv/lib/python3.10/site-packages (from torch>=1.13.0->peft) (0.6.2)\n",
      "Requirement already satisfied: nvidia-nccl-cu12==2.21.5 in /home/bsuetcueoglu/testprojectthesis/thesistest/thesisProjectTestEnv/lib/python3.10/site-packages (from torch>=1.13.0->peft) (2.21.5)\n",
      "Requirement already satisfied: nvidia-nvtx-cu12==12.4.127 in /home/bsuetcueoglu/testprojectthesis/thesistest/thesisProjectTestEnv/lib/python3.10/site-packages (from torch>=1.13.0->peft) (12.4.127)\n",
      "Requirement already satisfied: nvidia-nvjitlink-cu12==12.4.127 in /home/bsuetcueoglu/testprojectthesis/thesistest/thesisProjectTestEnv/lib/python3.10/site-packages (from torch>=1.13.0->peft) (12.4.127)\n",
      "Requirement already satisfied: triton==3.2.0 in /home/bsuetcueoglu/testprojectthesis/thesistest/thesisProjectTestEnv/lib/python3.10/site-packages (from torch>=1.13.0->peft) (3.2.0)\n",
      "Requirement already satisfied: sympy==1.13.1 in /home/bsuetcueoglu/testprojectthesis/thesistest/thesisProjectTestEnv/lib/python3.10/site-packages (from torch>=1.13.0->peft) (1.13.1)\n",
      "Requirement already satisfied: mpmath<1.4,>=1.1.0 in /home/bsuetcueoglu/testprojectthesis/thesistest/thesisProjectTestEnv/lib/python3.10/site-packages (from sympy==1.13.1->torch>=1.13.0->peft) (1.3.0)\n",
      "Requirement already satisfied: zipp>=3.20 in /home/bsuetcueoglu/testprojectthesis/thesistest/thesisProjectTestEnv/lib/python3.10/site-packages (from importlib_metadata->diffusers) (3.21.0)\n",
      "Requirement already satisfied: charset-normalizer<4,>=2 in /home/bsuetcueoglu/testprojectthesis/thesistest/thesisProjectTestEnv/lib/python3.10/site-packages (from requests->transformers) (3.4.1)\n",
      "Requirement already satisfied: idna<4,>=2.5 in /home/bsuetcueoglu/testprojectthesis/thesistest/thesisProjectTestEnv/lib/python3.10/site-packages (from requests->transformers) (3.10)\n",
      "Requirement already satisfied: urllib3<3,>=1.21.1 in /home/bsuetcueoglu/testprojectthesis/thesistest/thesisProjectTestEnv/lib/python3.10/site-packages (from requests->transformers) (2.4.0)\n",
      "Requirement already satisfied: certifi>=2017.4.17 in /home/bsuetcueoglu/testprojectthesis/thesistest/thesisProjectTestEnv/lib/python3.10/site-packages (from requests->transformers) (2025.1.31)\n",
      "Requirement already satisfied: MarkupSafe>=2.0 in /home/bsuetcueoglu/testprojectthesis/thesistest/thesisProjectTestEnv/lib/python3.10/site-packages (from jinja2->torch>=1.13.0->peft) (3.0.2)\n",
      "Downloading peft-0.15.2-py3-none-any.whl (411 kB)\n",
      "Installing collected packages: peft\n",
      "  Attempting uninstall: peft\n",
      "    Found existing installation: peft 0.7.0\n",
      "    Uninstalling peft-0.7.0:\n",
      "      Successfully uninstalled peft-0.7.0\n",
      "Successfully installed peft-0.15.2\n"
     ]
    }
   ],
   "source": [
    "! pip install -U peft transformers diffusers"
   ]
  },
  {
   "cell_type": "markdown",
   "metadata": {},
   "source": [
    "Diffusers Pipeline Setup        \n",
    "Loading Stable Diffusion XL Base 1.0 as base model then attaching LoRa adapters\n"
   ]
  },
  {
   "cell_type": "code",
   "execution_count": 2,
   "metadata": {},
   "outputs": [
    {
     "name": "stderr",
     "output_type": "stream",
     "text": [
      "/home/bsuetcueoglu/testprojectthesis/thesistest/thesisProjectTestEnv/lib/python3.10/site-packages/tqdm/auto.py:21: TqdmWarning: IProgress not found. Please update jupyter and ipywidgets. See https://ipywidgets.readthedocs.io/en/stable/user_install.html\n",
      "  from .autonotebook import tqdm as notebook_tqdm\n",
      "2025-04-22 11:35:52.910900: I tensorflow/core/util/port.cc:113] oneDNN custom operations are on. You may see slightly different numerical results due to floating-point round-off errors from different computation orders. To turn them off, set the environment variable `TF_ENABLE_ONEDNN_OPTS=0`.\n",
      "2025-04-22 11:35:52.956662: I tensorflow/core/platform/cpu_feature_guard.cc:210] This TensorFlow binary is optimized to use available CPU instructions in performance-critical operations.\n",
      "To enable the following instructions: AVX2 AVX512F AVX512_VNNI FMA, in other operations, rebuild TensorFlow with the appropriate compiler flags.\n",
      "2025-04-22 11:35:53.863748: W tensorflow/compiler/tf2tensorrt/utils/py_utils.cc:38] TF-TRT Warning: Could not find TensorRT\n",
      "Loading pipeline components...: 100%|██████████| 7/7 [00:01<00:00,  6.65it/s]\n"
     ]
    },
    {
     "name": "stdout",
     "output_type": "stream",
     "text": [
      "Name of the model:  sdxl-base-1.0-fbadataset5e-4-lrwrmp0-ep20-withoutpadding-noflip-lora-newlabels\n"
     ]
    }
   ],
   "source": [
    "%load_ext autoreload\n",
    "%autoreload 2\n",
    "\n",
    "from diffusers import DiffusionPipeline\n",
    "import torch\n",
    "import os\n",
    "from src.prompt_generator import PromptGenerator\n",
    "\n",
    "pipe = DiffusionPipeline.from_pretrained(\n",
    "    \"stabilityai/stable-diffusion-xl-base-1.0\",\n",
    "    torch_dtype=torch.float16,\n",
    "    variant=\"fp16\",\n",
    "    use_safetensors=True,\n",
    ").to(\"cuda\")\n",
    "\n",
    "# Optional CPU offloading to save same GPU memory\n",
    "pipe.enable_model_cpu_offload()\n",
    "\n",
    "model_path = \"artisanalwasp/sdxl-base-1.0-fbadataset5e-4-lrwrmp0-ep20-withoutpadding-noflip-lora-newlabels\"\n",
    "model_name = (model_path).split(\"/\")[-1]\n",
    "print(\"Name of the model: \", model_name)\n",
    "\n",
    "# Loading Trained LoRa weights\n",
    "pipe.load_lora_weights(model_path)"
   ]
  },
  {
   "cell_type": "markdown",
   "metadata": {},
   "source": [
    "Generate prompt that includes build-up edge wear (BUE)\n",
    "- Prompt for only BUE wear\n",
    "- Random prompt including BUE wear (can contain other wear types too)"
   ]
  },
  {
   "cell_type": "code",
   "execution_count": 3,
   "metadata": {},
   "outputs": [
    {
     "name": "stderr",
     "output_type": "stream",
     "text": [
      "100%|██████████| 50/50 [00:11<00:00,  4.33it/s]\n"
     ]
    }
   ],
   "source": [
    "total_num_images = 1\n",
    "tool_type = \"insert\"\n",
    "cat = \"bue\"\n",
    "prompt = PromptGenerator.generate_with_one_cat(tool_type, cat)\n",
    "\n",
    "os.makedirs(f\"./generated_images/{model_name}/bue_only\", exist_ok=True)\n",
    "for i in range(total_num_images):\n",
    "    image = pipe(\n",
    "        prompt=prompt,\n",
    "        num_inference_steps=50,\n",
    "        width=1280,\n",
    "        height=1024,\n",
    "        guidance_scale= 7.0 #how much to prompt effects the generated image\n",
    "    ).images[0]\n",
    "    \n",
    "    image.save(f\"./generated_images/{model_name}/bue_only/{prompt}_{i}.bmp\")"
   ]
  },
  {
   "cell_type": "markdown",
   "metadata": {},
   "source": [
    "Generating images for Groove category"
   ]
  },
  {
   "cell_type": "code",
   "execution_count": 4,
   "metadata": {},
   "outputs": [
    {
     "name": "stderr",
     "output_type": "stream",
     "text": [
      "100%|██████████| 50/50 [00:11<00:00,  4.37it/s]\n"
     ]
    }
   ],
   "source": [
    "total_num_images = 1\n",
    "tool_type = \"insert\"\n",
    "cat = \"groove\"\n",
    "prompt = PromptGenerator.generate_with_one_cat(tool_type, cat)\n",
    "\n",
    "os.makedirs(f\"./generated_images/{model_name}/groove_only\", exist_ok=True)\n",
    "\n",
    "for i in range(total_num_images):\n",
    "    image = pipe(\n",
    "        prompt=prompt,\n",
    "        num_inference_steps=50,\n",
    "        width=1280,\n",
    "        height=1024,\n",
    "        guidance_scale= 7.0 #how much to prompt effects the generated image\n",
    "    ).images[0]\n",
    "\n",
    "    image.save(f\"./generated_images/{model_name}/groove_only/{prompt}_{i}.bmp\")"
   ]
  },
  {
   "cell_type": "code",
   "execution_count": 5,
   "metadata": {},
   "outputs": [
    {
     "name": "stderr",
     "output_type": "stream",
     "text": [
      "100%|██████████| 50/50 [00:11<00:00,  4.43it/s]\n"
     ]
    }
   ],
   "source": [
    "total_num_images = 1\n",
    "tool_type = \"insert\"\n",
    "categories = [\"bue\", \"groove\", \"flank\"]\n",
    "cat = \"bue\"\n",
    "prompt = \"\"\n",
    "os.makedirs(f\"./generated_images/{model_name}/bue\", exist_ok=True)\n",
    "\n",
    "for i in range(total_num_images):\n",
    "    random_prompt = PromptGenerator.generate_random_prompt_with_a_category(tool_type=tool_type, categories=categories, fixed_cat=cat)\n",
    "    image = pipe(\n",
    "        prompt=random_prompt,\n",
    "        num_inference_steps=50,\n",
    "        width=1280,\n",
    "        height=1024,\n",
    "        guidance_scale= 7.0 #how much to prompt effects the generated image\n",
    "    ).images[0]\n",
    "\n",
    "    image.save(f\"./generated_images/{model_name}/bue/{random_prompt}_{i}.bmp\")"
   ]
  },
  {
   "cell_type": "markdown",
   "metadata": {},
   "source": [
    "Random prompt without any wear type restrictions"
   ]
  },
  {
   "cell_type": "code",
   "execution_count": null,
   "metadata": {},
   "outputs": [
    {
     "name": "stderr",
     "output_type": "stream",
     "text": [
      "100%|██████████| 50/50 [00:11<00:00,  4.40it/s]\n"
     ]
    }
   ],
   "source": [
    "total_num_images = 1\n",
    "tool_type = \"insert\"\n",
    "categories = [\"bue\", \"groove\", \"flank\"]\n",
    "prompt = \"\"\n",
    "os.makedirs(f\"./generated_images/{model_name}/random_prompt\", exist_ok=True)\n",
    "\n",
    "for i in range (total_num_images):\n",
    "    random_prompt = PromptGenerator.generate_random_prompt(tool_type, categories)\n",
    "    # print(prompt)\n",
    "    image = pipe(\n",
    "        prompt=random_prompt,\n",
    "        num_inference_steps=50,\n",
    "        width=1280,\n",
    "        height=1024,\n",
    "        guidance_scale= 7.0 #how much to prompt effects the generated image\n",
    "    ).images[0]\n",
    "\n",
    "    image.save(f\"./generated_images/{model_name}/random_prompt/{random_prompt}_{i}.bmp\")"
   ]
  }
 ],
 "metadata": {
  "kernelspec": {
   "display_name": "thesisProjectTestEnv",
   "language": "python",
   "name": "python3"
  },
  "language_info": {
   "codemirror_mode": {
    "name": "ipython",
    "version": 3
   },
   "file_extension": ".py",
   "mimetype": "text/x-python",
   "name": "python",
   "nbconvert_exporter": "python",
   "pygments_lexer": "ipython3",
   "version": "3.10.12"
  }
 },
 "nbformat": 4,
 "nbformat_minor": 2
}
