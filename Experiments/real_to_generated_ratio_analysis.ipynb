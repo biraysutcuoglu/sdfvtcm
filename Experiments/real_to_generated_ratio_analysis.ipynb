{
 "cells": [
  {
   "cell_type": "code",
   "execution_count": null,
   "metadata": {},
   "outputs": [
    {
     "name": "stdout",
     "output_type": "stream",
     "text": [
      "The autoreload extension is already loaded. To reload it, use:\n",
      "  %reload_ext autoreload\n"
     ]
    }
   ],
   "source": [
    "%load_ext autoreload\n",
    "%autoreload 2\n",
    "\n",
    "import sys \n",
    "import os\n",
    "\n",
    "from experiments_utils import ExperimentUtils\n",
    "from common.common_methods import CommonMethods"
   ]
  },
  {
   "cell_type": "markdown",
   "metadata": {},
   "source": [
    "NOTE: This notebook explores how varying the ratio of real to generated images impacts segmentation performance."
   ]
  },
  {
   "cell_type": "markdown",
   "metadata": {},
   "source": [
    "### Experiment I\n",
    "- 50 real images\n",
    "#### 1. Prepare dataset (50 random images from training dataset)"
   ]
  },
  {
   "cell_type": "code",
   "execution_count": null,
   "metadata": {},
   "outputs": [
    {
     "name": "stdout",
     "output_type": "stream",
     "text": [
      "Copied 50 images to ../Data/FBA_dataset/experiments/real_50/real_to_gen_ratio_images_50/\n",
      "Copied 50 masks to ../Data/FBA_dataset/experiments/real_50/real_to_gen_ratio_masks_50/\n"
     ]
    }
   ],
   "source": [
    "images_dir = \"../Data/FBA_dataset/train/images/\"\n",
    "masks_dir = \"../Data/FBA_dataset/train/masks/\"\n",
    "\n",
    "experiment_images_dir = \"../Data/FBA_dataset/experiments/real_50/images/\"\n",
    "experiments_masks_dir = \"../Data/FBA_dataset/experiments/real_50/masks/\"\n",
    "\n",
    "random_im_files = ExperimentUtils.select_n_images_and_masks(50, images_dir, masks_dir)\n",
    "ExperimentUtils.copy_selected_images(random_im_files, images_dir, experiment_images_dir)\n",
    "ExperimentUtils.copy_selected_masks(random_im_files, masks_dir, experiments_masks_dir)"
   ]
  },
  {
   "cell_type": "markdown",
   "metadata": {},
   "source": [
    "#### 2. Annotate them in COCO JSON format"
   ]
  },
  {
   "cell_type": "code",
   "execution_count": null,
   "metadata": {},
   "outputs": [
    {
     "name": "stdout",
     "output_type": "stream",
     "text": [
      "Annotations are generated.\n",
      "{'id': 1, 'name': 'tool'}\n",
      "{'id': 2, 'name': 'flank_wear'}\n",
      "{'id': 3, 'name': 'bue'}\n",
      "{'id': 4, 'name': 'groove'}\n",
      "Annotations saved to ../Data/FBA_dataset/experiments/real_50/real_to_gen_ratio_images_50/real_50.json\n"
     ]
    }
   ],
   "source": [
    "experiment_config = \"../Data/FBA_dataset/experiments/real_50/config.yaml\"\n",
    "ExperimentUtils.generate_coco_annotations(experiment_config, \"real_50_labels\") #add the labels out file name without extensions"
   ]
  },
  {
   "cell_type": "markdown",
   "metadata": {},
   "source": [
    "#### 3. Training Mask R-CNN  \n",
    "\n",
    "Now that the dataset is ready, follow these steps to train Mask R-CNN:  \n",
    "\n",
    "1. **Update the Configuration File**  \n",
    "   - Open **`Detectron_SSegmentation/segmenter_config.yaml`**  \n",
    "   - Modify only the following fields:  \n",
    "     - `train_dataset`: Set the path to the training dataset.  \n",
    "     - `labels_path`: Specify the path to the labels.  \n",
    "     - `wandb/experiment_name`: Specify the experiment name\n",
    "   - **Do not change** the validation and test dataset paths.  \n",
    "\n",
    "2. From terminal change directory to `Detectron_SSegmentation` and run `python tool_segmentation.py mode --train`\n",
    "3. For inference on the test dataset run `python tool_segmentation.py mode --infer`\n",
    "\n",
    "----------------------------------------------------------------------------------"
   ]
  },
  {
   "cell_type": "markdown",
   "metadata": {},
   "source": [
    "### Experiment II: \n",
    "- 40 real images and 10 generated images\n",
    "#### 1. Copy 40 real images and masks to experiment's directory"
   ]
  },
  {
   "cell_type": "code",
   "execution_count": null,
   "metadata": {},
   "outputs": [
    {
     "name": "stdout",
     "output_type": "stream",
     "text": [
      "Copied 40 images to ../Data/FBA_dataset/experiments/real_40_gen_10/images/\n",
      "Copied 40 masks to ../Data/FBA_dataset/experiments/real_40_gen_10/masks/\n"
     ]
    }
   ],
   "source": [
    "images_dir = \"../Data/FBA_dataset/experiments/real_50/images/\"\n",
    "masks_dir = \"../Data/FBA_dataset/experiments/real_50/masks/\"\n",
    "\n",
    "experiment_images_dir = \"../Data/FBA_dataset/experiments/real_40_gen_10/images/\"\n",
    "experiments_masks_dir = \"../Data/FBA_dataset/experiments/real_40_gen_10/masks/\"\n",
    "\n",
    "random_im_files = ExperimentUtils.select_n_images_and_masks(40, images_dir, masks_dir)\n",
    "ExperimentUtils.copy_selected_images(random_im_files, images_dir, experiment_images_dir)\n",
    "ExperimentUtils.copy_selected_masks(random_im_files, masks_dir, experiments_masks_dir)\n"
   ]
  },
  {
   "cell_type": "markdown",
   "metadata": {},
   "source": [
    "#### 2. Annotate real images in COCO format \n",
    "- This will save the COCO annotations file in the given images path"
   ]
  },
  {
   "cell_type": "code",
   "execution_count": null,
   "metadata": {},
   "outputs": [
    {
     "name": "stdout",
     "output_type": "stream",
     "text": [
      "Annotations are generated.\n",
      "{'id': 1, 'name': 'tool'}\n",
      "{'id': 2, 'name': 'flank_wear'}\n",
      "{'id': 3, 'name': 'bue'}\n",
      "{'id': 4, 'name': 'groove'}\n",
      "Annotations saved to ../Data/FBA_dataset/experiments/real_40_gen_10/images/real_40_labels.json\n"
     ]
    }
   ],
   "source": [
    "experiment_config = \"../Data/FBA_dataset/experiments/real_40_gen_10/config.yaml\"\n",
    "ExperimentUtils.generate_coco_annotations(experiment_config, \"real_40_labels\") #add the labels out file name without extensions"
   ]
  },
  {
   "cell_type": "markdown",
   "metadata": {},
   "source": [
    "#### 3. Move Generated Images  \n",
    "\n",
    "Copy the generated images into the **images** folder within the **experiment** directory.  "
   ]
  },
  {
   "cell_type": "code",
   "execution_count": null,
   "metadata": {},
   "outputs": [],
   "source": [
    "generated_im_dir = \"../Data/FBA_dataset/generated/second_try/random/gen_10\"\n",
    "CommonMethods.copy_image_files_to_directory(generated_im_dir, experiment_images_dir)"
   ]
  },
  {
   "cell_type": "markdown",
   "metadata": {},
   "source": [
    "#### 4. Merge COCO annotations of real and generated images"
   ]
  },
  {
   "cell_type": "code",
   "execution_count": null,
   "metadata": {},
   "outputs": [
    {
     "name": "stdout",
     "output_type": "stream",
     "text": [
      "Merged annotations saved as ../Data/FBA_dataset/experiments/real_40_gen_10/images/combined_annotations.json\n"
     ]
    }
   ],
   "source": [
    "real_images_ann_path = \"../Data/FBA_dataset/experiments/real_40_gen_10/images/real_40_labels.json\"\n",
    "generated_images_ann_path = \"../Data/FBA_dataset/generated/second_try/random/gen_10/labels_gen_random_10.json\"\n",
    "combined_annotation_output_path = \"../Data/FBA_dataset/experiments/real_40_gen_10/images/combined_annotations.json\"\n",
    "ExperimentUtils.merge_coco_annotations(real_images_ann_path, generated_images_ann_path, combined_annotation_output_path)"
   ]
  },
  {
   "cell_type": "markdown",
   "metadata": {},
   "source": [
    "#### 5. Finetuning Mask R-CNN and Inference\n",
    "- Follow the same steps as in the **Training Mask R-CNN** process in **Experiment I**, and fine-tune the model accordingly. \n",
    "----------------------------\n"
   ]
  },
  {
   "cell_type": "markdown",
   "metadata": {},
   "source": [
    "### Experiment III\n",
    "- 30 real and 20 generated images"
   ]
  },
  {
   "cell_type": "code",
   "execution_count": null,
   "metadata": {},
   "outputs": [
    {
     "name": "stdout",
     "output_type": "stream",
     "text": [
      "Copied 30 images to ../Data/FBA_dataset/experiments/real_30_gen_20/images/\n",
      "Copied 30 masks to ../Data/FBA_dataset/experiments/real_30_gen_20/masks/\n"
     ]
    }
   ],
   "source": [
    "# Copy real images to experiment folder\n",
    "images_dir = \"../Data/FBA_dataset/experiments/real_50/images/\"\n",
    "masks_dir = \"../Data/FBA_dataset/experiments/real_50/masks/\"\n",
    "\n",
    "experiment_images_dir = \"../Data/FBA_dataset/experiments/real_30_gen_20/images/\"\n",
    "experiments_masks_dir = \"../Data/FBA_dataset/experiments/real_30_gen_20/masks/\"\n",
    "\n",
    "random_im_files = ExperimentUtils.select_n_images_and_masks(30, images_dir, masks_dir)\n",
    "ExperimentUtils.copy_selected_images(random_im_files, images_dir, experiment_images_dir)\n",
    "ExperimentUtils.copy_selected_masks(random_im_files, masks_dir, experiments_masks_dir)"
   ]
  },
  {
   "cell_type": "code",
   "execution_count": null,
   "metadata": {},
   "outputs": [
    {
     "name": "stdout",
     "output_type": "stream",
     "text": [
      "Annotations are generated.\n",
      "{'id': 1, 'name': 'tool'}\n",
      "{'id': 2, 'name': 'flank_wear'}\n",
      "{'id': 3, 'name': 'bue'}\n",
      "{'id': 4, 'name': 'groove'}\n",
      "Annotations saved to ../Data/FBA_dataset/experiments/real_30_gen_20/images/real_30_labels.json\n"
     ]
    }
   ],
   "source": [
    "# Annotate real images in COCO JSON format\n",
    "experiment_config = \"../Data/FBA_dataset/experiments/real_30_gen_20/config.yaml\"\n",
    "ExperimentUtils.generate_coco_annotations(experiment_config, \"real_30_labels\") #add the labels out file name without extensions"
   ]
  },
  {
   "cell_type": "code",
   "execution_count": null,
   "metadata": {},
   "outputs": [],
   "source": [
    "generated_im_dir = \"../Data/FBA_dataset/generated/second_try/random/gen_20\"\n",
    "CommonMethods.copy_image_files_to_directory(generated_im_dir, experiment_images_dir)"
   ]
  },
  {
   "cell_type": "code",
   "execution_count": null,
   "metadata": {},
   "outputs": [
    {
     "name": "stdout",
     "output_type": "stream",
     "text": [
      "Merged annotations saved as ../Data/FBA_dataset/experiments/real_30_gen_20/images/combined_annotations.json\n"
     ]
    }
   ],
   "source": [
    "real_images_ann_path = \"../Data/FBA_dataset/experiments/real_30_gen_20/images/real_30_labels.json\"\n",
    "generated_images_ann_path = \"../Data/FBA_dataset/generated/second_try/random/gen_20/labels_gen_random_20.json\"\n",
    "combined_annotation_output_path = \"../Data/FBA_dataset/experiments/real_30_gen_20/images/combined_annotations.json\"\n",
    "ExperimentUtils.merge_coco_annotations(real_images_ann_path, generated_images_ann_path, combined_annotation_output_path)"
   ]
  },
  {
   "cell_type": "markdown",
   "metadata": {},
   "source": [
    "------------------------------------\n",
    "### Experiment IV\n",
    "- 20 real and 30 generated images"
   ]
  },
  {
   "cell_type": "code",
   "execution_count": null,
   "metadata": {},
   "outputs": [
    {
     "name": "stdout",
     "output_type": "stream",
     "text": [
      "Copied 20 images to ../Data/FBA_dataset/experiments/real_20_gen_30/images/\n",
      "Copied 20 masks to ../Data/FBA_dataset/experiments/real_20_gen_30/masks/\n"
     ]
    }
   ],
   "source": [
    "# Copy real images to experiment folder\n",
    "images_dir = \"../Data/FBA_dataset/experiments/real_50/images/\"\n",
    "masks_dir = \"../Data/FBA_dataset/experiments/real_50/masks/\"\n",
    "\n",
    "experiment_images_dir = \"../Data/FBA_dataset/experiments/real_20_gen_30/images/\"\n",
    "experiments_masks_dir = \"../Data/FBA_dataset/experiments/real_20_gen_30/masks/\"\n",
    "\n",
    "random_im_files = ExperimentUtils.select_n_images_and_masks(20, images_dir, masks_dir)\n",
    "ExperimentUtils.copy_selected_images(random_im_files, images_dir, experiment_images_dir)\n",
    "ExperimentUtils.copy_selected_masks(random_im_files, masks_dir, experiments_masks_dir)"
   ]
  },
  {
   "cell_type": "code",
   "execution_count": null,
   "metadata": {},
   "outputs": [
    {
     "name": "stdout",
     "output_type": "stream",
     "text": [
      "Annotations are generated.\n",
      "{'id': 1, 'name': 'tool'}\n",
      "{'id': 2, 'name': 'flank_wear'}\n",
      "{'id': 3, 'name': 'bue'}\n",
      "{'id': 4, 'name': 'groove'}\n",
      "Annotations saved to ../Data/FBA_dataset/experiments/real_20_gen_30/images/real_20_labels.json\n"
     ]
    }
   ],
   "source": [
    "# Annotate real images in COCO JSON format\n",
    "experiment_config = \"../Data/FBA_dataset/experiments/real_20_gen_30/config.yaml\"\n",
    "ExperimentUtils.generate_coco_annotations(experiment_config, \"real_20_labels\") #add the labels out file name without extensions"
   ]
  },
  {
   "cell_type": "code",
   "execution_count": null,
   "metadata": {},
   "outputs": [],
   "source": [
    "generated_im_dir = \"../Data/FBA_dataset/generated/second_try/random/gen_30\"\n",
    "CommonMethods.copy_image_files_to_directory(generated_im_dir, experiment_images_dir)"
   ]
  },
  {
   "cell_type": "code",
   "execution_count": null,
   "metadata": {},
   "outputs": [
    {
     "name": "stdout",
     "output_type": "stream",
     "text": [
      "Merged annotations saved as ../Data/FBA_dataset/experiments/real_20_gen_30/images/combined_annotations.json\n"
     ]
    }
   ],
   "source": [
    "real_images_ann_path = \"../Data/FBA_dataset/experiments/real_20_gen_30/images/real_20_labels.json\"\n",
    "generated_images_ann_path = \"../Data/FBA_dataset/generated/second_try/random/gen_30/labels_gen_random_30_.json\"\n",
    "combined_annotation_output_path = \"../Data/FBA_dataset/experiments/real_20_gen_30/images/combined_annotations.json\"\n",
    "ExperimentUtils.merge_coco_annotations(real_images_ann_path, generated_images_ann_path, combined_annotation_output_path)"
   ]
  },
  {
   "cell_type": "markdown",
   "metadata": {},
   "source": [
    "---------------------\n",
    "### Experiment V\n",
    "- 10 Real and 40 generated images"
   ]
  },
  {
   "cell_type": "code",
   "execution_count": null,
   "metadata": {},
   "outputs": [
    {
     "name": "stdout",
     "output_type": "stream",
     "text": [
      "Copied 10 images to ../Data/FBA_dataset/experiments/real_10_gen_40/images/\n",
      "Copied 10 masks to ../Data/FBA_dataset/experiments/real_10_gen_40/masks/\n"
     ]
    }
   ],
   "source": [
    "# Copy real images to experiment folder\n",
    "images_dir = \"../Data/FBA_dataset/experiments/real_50/images/\"\n",
    "masks_dir = \"../Data/FBA_dataset/experiments/real_50/masks/\"\n",
    "\n",
    "experiment_images_dir = \"../Data/FBA_dataset/experiments/real_10_gen_40/images/\"\n",
    "experiments_masks_dir = \"../Data/FBA_dataset/experiments/real_10_gen_40/masks/\"\n",
    "\n",
    "random_im_files = ExperimentUtils.select_n_images_and_masks(10, images_dir, masks_dir)\n",
    "ExperimentUtils.copy_selected_images(random_im_files, images_dir, experiment_images_dir)\n",
    "ExperimentUtils.copy_selected_masks(random_im_files, masks_dir, experiments_masks_dir)"
   ]
  },
  {
   "cell_type": "code",
   "execution_count": null,
   "metadata": {},
   "outputs": [
    {
     "name": "stdout",
     "output_type": "stream",
     "text": [
      "Annotations are generated.\n",
      "{'id': 1, 'name': 'tool'}\n",
      "{'id': 2, 'name': 'flank_wear'}\n",
      "{'id': 3, 'name': 'bue'}\n",
      "{'id': 4, 'name': 'groove'}\n",
      "Annotations saved to ../Data/FBA_dataset/experiments/real_10_gen_40/images/real_10_labels.json\n"
     ]
    }
   ],
   "source": [
    "# Annotate real images in COCO JSON format\n",
    "experiment_config = \"../Data/FBA_dataset/experiments/real_10_gen_40/config.yaml\"\n",
    "ExperimentUtils.generate_coco_annotations(experiment_config, \"real_10_labels\") #add the labels out file name without extensions"
   ]
  },
  {
   "cell_type": "code",
   "execution_count": null,
   "metadata": {},
   "outputs": [],
   "source": [
    "generated_im_dir = \"../Data/FBA_dataset/generated/second_try/random/gen_40\"\n",
    "CommonMethods.copy_image_files_to_directory(generated_im_dir, experiment_images_dir)"
   ]
  },
  {
   "cell_type": "code",
   "execution_count": null,
   "metadata": {},
   "outputs": [
    {
     "name": "stdout",
     "output_type": "stream",
     "text": [
      "Merged annotations saved as ../Data/FBA_dataset/experiments/real_10_gen_40/images/combined_annotations.json\n"
     ]
    }
   ],
   "source": [
    "real_images_ann_path = \"../Data/FBA_dataset/experiments/real_10_gen_40/images/real_10_labels.json\"\n",
    "generated_images_ann_path = \"../Data/FBA_dataset/generated/second_try/random/gen_40/labels_gen_random_40.json\"\n",
    "combined_annotation_output_path = \"../Data/FBA_dataset/experiments/real_10_gen_40/images/combined_annotations.json\"\n",
    "ExperimentUtils.merge_coco_annotations(real_images_ann_path, generated_images_ann_path, combined_annotation_output_path)"
   ]
  },
  {
   "cell_type": "markdown",
   "metadata": {},
   "source": [
    "-----------------"
   ]
  },
  {
   "cell_type": "markdown",
   "metadata": {},
   "source": [
    "### Experiment VI\n",
    "- 50 generated images (no real images)"
   ]
  },
  {
   "cell_type": "code",
   "execution_count": 8,
   "metadata": {},
   "outputs": [
    {
     "name": "stdout",
     "output_type": "stream",
     "text": [
      "50 files are copied to ../Data/FBA_dataset/experiments/gen_50/images/.\n"
     ]
    }
   ],
   "source": [
    "experiment_images_dir = \"../Data/FBA_dataset/experiments/gen_50/images/\"\n",
    "\n",
    "generated_im_dir = \"../Data/FBA_dataset/generated/second_try/random/gen_50\"\n",
    "CommonMethods.copy_image_files_to_directory(generated_im_dir, experiment_images_dir)"
   ]
  }
 ],
 "metadata": {
  "kernelspec": {
   "display_name": "thesis-all-modules-env",
   "language": "python",
   "name": "python3"
  },
  "language_info": {
   "codemirror_mode": {
    "name": "ipython",
    "version": 3
   },
   "file_extension": ".py",
   "mimetype": "text/x-python",
   "name": "python",
   "nbconvert_exporter": "python",
   "pygments_lexer": "ipython3",
   "version": "3.13.1"
  }
 },
 "nbformat": 4,
 "nbformat_minor": 2
}
