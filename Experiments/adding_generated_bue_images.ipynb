{
 "cells": [
  {
   "cell_type": "code",
   "execution_count": 1,
   "metadata": {},
   "outputs": [],
   "source": [
    "%load_ext autoreload\n",
    "%autoreload 2\n",
    "\n",
    "import sys \n",
    "import os\n",
    "\n",
    "from experiments_utils import ExperimentUtils\n",
    "from common.common_methods import CommonMethods"
   ]
  },
  {
   "cell_type": "markdown",
   "metadata": {},
   "source": [
    "Note: Category with the lowest AP in FBA Dataset is Build up Edge (BUE). This notebook analyzes the impact of generated BUE images on segmentation model's performance, with a particular focus on the BUE category.\n",
    "- In the following experiments 5, 10, 15 and 20 generated images added to training dataset respectively and the AP of the Segmentation model is analyzed. \n",
    "\n",
    "#### Experiment I\n",
    "- Adding 5 images generated with prompt \"insert with bue wear\" to the training dataset"
   ]
  },
  {
   "cell_type": "markdown",
   "metadata": {},
   "source": [
    "##### 1. Copy real training images and generated images to the experiment directory"
   ]
  },
  {
   "cell_type": "code",
   "execution_count": 2,
   "metadata": {},
   "outputs": [
    {
     "name": "stdout",
     "output_type": "stream",
     "text": [
      "86 files are copied to ../Data/FBA_dataset/experiments/increasing_bue_performance/real_and_gen5/.\n",
      "5 files are copied to ../Data/FBA_dataset/experiments/increasing_bue_performance/real_and_gen5/.\n"
     ]
    }
   ],
   "source": [
    "experiment_dataset_dir = \"../Data/FBA_dataset/experiments/increasing_bue_performance/real_and_gen5/\"\n",
    "train_dataset_dir = \"../Data/FBA_dataset/train/images/\"\n",
    "generated_im_dir = \"../Data/FBA_dataset/generated/bue/gen5/resized_bmp\"\n",
    "\n",
    "CommonMethods.copy_image_files_to_directory(train_dataset_dir, experiment_dataset_dir)\n",
    "CommonMethods.copy_image_files_to_directory(generated_im_dir, experiment_dataset_dir)"
   ]
  },
  {
   "cell_type": "markdown",
   "metadata": {},
   "source": [
    "##### 2. Merge COCO annotations of real and generated images"
   ]
  },
  {
   "cell_type": "code",
   "execution_count": 3,
   "metadata": {},
   "outputs": [
    {
     "name": "stdout",
     "output_type": "stream",
     "text": [
      "Merged annotations saved as ../Data/FBA_dataset/experiments/increasing_bue_performance/real_and_gen5/combined_annotations.json\n"
     ]
    }
   ],
   "source": [
    "train_dataset_labels_path = \"../Data/FBA_dataset/train/images/train_labels.json\"\n",
    "generated_images_labels_path = \"../Data/FBA_dataset/generated/bue/gen5/resized_bmp/labels_gen_5.json\"\n",
    "labels_output_path = \"../Data/FBA_dataset/experiments/increasing_bue_performance/real_and_gen5/combined_annotations.json\"\n",
    "\n",
    "ExperimentUtils.merge_coco_annotations(real_ann_file_path=train_dataset_labels_path, gen_ann_file_path=generated_images_labels_path, output_file_path=labels_output_path)"
   ]
  },
  {
   "cell_type": "markdown",
   "metadata": {},
   "source": [
    "##### 3. Training Mask R-CNN  \n",
    "\n",
    "Now that the dataset is ready, follow these steps to train Mask R-CNN:  \n",
    "\n",
    "1. **Update the Configuration File**  \n",
    "   - Open **`MaskRCNN/segmenter_config.yaml`**  \n",
    "   - Modify only the following fields:  \n",
    "     - `train_dataset`: Set the path to the training dataset.  \n",
    "     - `labels_path`: Specify the path to the labels.  \n",
    "     - `wandb/experiment_name`: Specify the experiment name\n",
    "   - **Do not change** the validation and test dataset paths.  \n",
    "\n",
    "2. From terminal change directory to `MaskRCNN` and run `python tool_segmentation.py mode --train`\n",
    "3. For inference on the test dataset run `python tool_segmentation.py mode --infer`\n",
    "\n",
    "----------------------------------------------------------------------------------"
   ]
  },
  {
   "cell_type": "markdown",
   "metadata": {},
   "source": [
    "#### Experiment II\n",
    "- Adding 10 images generated with prompt \"insert with bue wear\" to the training dataset"
   ]
  },
  {
   "cell_type": "code",
   "execution_count": 4,
   "metadata": {},
   "outputs": [
    {
     "name": "stdout",
     "output_type": "stream",
     "text": [
      "86 files are copied to ../Data/FBA_dataset/experiments/increasing_bue_performance/real_and_gen10/.\n",
      "10 files are copied to ../Data/FBA_dataset/experiments/increasing_bue_performance/real_and_gen10/.\n"
     ]
    }
   ],
   "source": [
    "experiment_dataset_dir = \"../Data/FBA_dataset/experiments/increasing_bue_performance/real_and_gen10/\"\n",
    "train_dataset_dir = \"../Data/FBA_dataset/train/images/\"\n",
    "generated_im_dir = \"../Data/FBA_dataset/generated/bue/gen10/resized_bmp\"\n",
    "\n",
    "CommonMethods.copy_image_files_to_directory(train_dataset_dir, experiment_dataset_dir)\n",
    "CommonMethods.copy_image_files_to_directory(generated_im_dir, experiment_dataset_dir)"
   ]
  },
  {
   "cell_type": "code",
   "execution_count": 5,
   "metadata": {},
   "outputs": [
    {
     "name": "stdout",
     "output_type": "stream",
     "text": [
      "Merged annotations saved as ../Data/FBA_dataset/experiments/increasing_bue_performance/real_and_gen10/combined_annotations.json\n"
     ]
    }
   ],
   "source": [
    "train_dataset_labels_path = \"../Data/FBA_dataset/train/images/train_labels.json\"\n",
    "generated_images_labels_path = \"../Data/FBA_dataset/generated/bue/gen10/resized_bmp/labels_gen_10.json\"\n",
    "labels_output_path = \"../Data/FBA_dataset/experiments/increasing_bue_performance/real_and_gen10/combined_annotations.json\"\n",
    "\n",
    "ExperimentUtils.merge_coco_annotations(real_ann_file_path=train_dataset_labels_path, gen_ann_file_path=generated_images_labels_path, output_file_path=labels_output_path)"
   ]
  },
  {
   "cell_type": "markdown",
   "metadata": {},
   "source": [
    "-------------\n",
    "#### Experiment III\n",
    "- Adding 15 images generated with prompt \"insert with bue wear\" to the training dataset"
   ]
  },
  {
   "cell_type": "code",
   "execution_count": 6,
   "metadata": {},
   "outputs": [
    {
     "name": "stdout",
     "output_type": "stream",
     "text": [
      "86 files are copied to ../Data/FBA_dataset/experiments/increasing_bue_performance/real_and_gen15/.\n",
      "15 files are copied to ../Data/FBA_dataset/experiments/increasing_bue_performance/real_and_gen15/.\n"
     ]
    }
   ],
   "source": [
    "experiment_dataset_dir = \"../Data/FBA_dataset/experiments/increasing_bue_performance/real_and_gen15/\"\n",
    "train_dataset_dir = \"../Data/FBA_dataset/train/images/\"\n",
    "generated_im_dir = \"../Data/FBA_dataset/generated/bue/gen15/resized_bmp\"\n",
    "\n",
    "CommonMethods.copy_image_files_to_directory(train_dataset_dir, experiment_dataset_dir)\n",
    "CommonMethods.copy_image_files_to_directory(generated_im_dir, experiment_dataset_dir)"
   ]
  },
  {
   "cell_type": "code",
   "execution_count": 7,
   "metadata": {},
   "outputs": [
    {
     "name": "stdout",
     "output_type": "stream",
     "text": [
      "Merged annotations saved as ../Data/FBA_dataset/experiments/increasing_bue_performance/real_and_gen15/combined_annotations.json\n"
     ]
    }
   ],
   "source": [
    "train_dataset_labels_path = \"../Data/FBA_dataset/train/images/train_labels.json\"\n",
    "generated_images_labels_path = \"../Data/FBA_dataset/generated/bue/gen15/resized_bmp/labels_gen_15.json\"\n",
    "labels_output_path = \"../Data/FBA_dataset/experiments/increasing_bue_performance/real_and_gen15/combined_annotations.json\"\n",
    "\n",
    "ExperimentUtils.merge_coco_annotations(real_ann_file_path=train_dataset_labels_path, gen_ann_file_path=generated_images_labels_path, output_file_path=labels_output_path)"
   ]
  },
  {
   "cell_type": "markdown",
   "metadata": {},
   "source": [
    "----------------------------\n",
    "##### Experiment IV\n",
    "- Adding 20 images generated with prompt \"insert with bue wear\" to the training dataset"
   ]
  },
  {
   "cell_type": "code",
   "execution_count": 8,
   "metadata": {},
   "outputs": [
    {
     "name": "stdout",
     "output_type": "stream",
     "text": [
      "86 files are copied to ../Data/FBA_dataset/experiments/increasing_bue_performance/real_and_gen20/.\n",
      "20 files are copied to ../Data/FBA_dataset/experiments/increasing_bue_performance/real_and_gen20/.\n"
     ]
    }
   ],
   "source": [
    "experiment_dataset_dir = \"../Data/FBA_dataset/experiments/increasing_bue_performance/real_and_gen20/\"\n",
    "train_dataset_dir = \"../Data/FBA_dataset/train/images/\"\n",
    "generated_im_dir = \"../Data/FBA_dataset/generated/bue/gen20/resized_bmp\"\n",
    "\n",
    "CommonMethods.copy_image_files_to_directory(train_dataset_dir, experiment_dataset_dir)\n",
    "CommonMethods.copy_image_files_to_directory(generated_im_dir, experiment_dataset_dir)"
   ]
  },
  {
   "cell_type": "code",
   "execution_count": 9,
   "metadata": {},
   "outputs": [
    {
     "name": "stdout",
     "output_type": "stream",
     "text": [
      "Merged annotations saved as ../Data/FBA_dataset/experiments/increasing_bue_performance/real_and_gen20/combined_annotations.json\n"
     ]
    }
   ],
   "source": [
    "train_dataset_labels_path = \"../Data/FBA_dataset/train/images/train_labels.json\"\n",
    "generated_images_labels_path = \"../Data/FBA_dataset/generated/bue/gen20/resized_bmp/labels_gen_20.json\"\n",
    "labels_output_path = \"../Data/FBA_dataset/experiments/increasing_bue_performance/real_and_gen20/combined_annotations.json\"\n",
    "\n",
    "ExperimentUtils.merge_coco_annotations(real_ann_file_path=train_dataset_labels_path, gen_ann_file_path=generated_images_labels_path, output_file_path=labels_output_path)"
   ]
  }
 ],
 "metadata": {
  "kernelspec": {
   "display_name": "thesisProjectTestEnv",
   "language": "python",
   "name": "python3"
  },
  "language_info": {
   "codemirror_mode": {
    "name": "ipython",
    "version": 3
   },
   "file_extension": ".py",
   "mimetype": "text/x-python",
   "name": "python",
   "nbconvert_exporter": "python",
   "pygments_lexer": "ipython3",
   "version": "3.10.12"
  }
 },
 "nbformat": 4,
 "nbformat_minor": 2
}
