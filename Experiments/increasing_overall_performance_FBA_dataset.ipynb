{
 "cells": [
  {
   "cell_type": "code",
   "execution_count": 1,
   "metadata": {},
   "outputs": [],
   "source": [
    "%load_ext autoreload\n",
    "%autoreload 2\n",
    "\n",
    "import sys \n",
    "import os\n",
    "\n",
    "from experiments_utils import ExperimentUtils\n",
    "from common.common_methods import CommonMethods"
   ]
  },
  {
   "cell_type": "markdown",
   "metadata": {},
   "source": [
    "Note: This notebook combines the synthetic images from random categories with real images.\n",
    "- In the following experiments 10, 20, 30 and 40 generated images added to the real training set.\n",
    "- Annotation files of  real and synthetic are combined for using this dataset in Mask R-CNN model. \n",
    "\n",
    "#### Experiment I\n",
    "- Adding 10 images generated with random prompts to the training dataset"
   ]
  },
  {
   "cell_type": "code",
   "execution_count": 2,
   "metadata": {},
   "outputs": [
    {
     "name": "stdout",
     "output_type": "stream",
     "text": [
      "86 files are copied to ../Data/FBA_dataset/experiments/increasing_overall_performance/real_and_gen10/.\n",
      "10 files are copied to ../Data/FBA_dataset/experiments/increasing_overall_performance/real_and_gen10/.\n"
     ]
    }
   ],
   "source": [
    "images_dir = \"../Data/FBA_dataset/train/images/\"\n",
    "\n",
    "experiment_images_dir = \"../Data/FBA_dataset/experiments/increasing_overall_performance/real_and_gen10/\"\n",
    "generated_images_dir = \"../Data/FBA_dataset/generated/random/gen_10\"\n",
    "\n",
    "CommonMethods.copy_image_files_to_directory(images_dir, experiment_images_dir)\n",
    "CommonMethods.copy_image_files_to_directory(generated_images_dir, experiment_images_dir)"
   ]
  },
  {
   "cell_type": "code",
   "execution_count": 3,
   "metadata": {},
   "outputs": [
    {
     "name": "stdout",
     "output_type": "stream",
     "text": [
      "Merged annotations saved as ../Data/FBA_dataset/experiments/increasing_overall_performance/real_and_gen10/combined_annotations.json\n"
     ]
    }
   ],
   "source": [
    "real_images_ann_path = \"../Data/FBA_dataset/train/images/train_labels.json\"\n",
    "generated_images_ann_path = \"../Data/FBA_dataset/generated/random/gen_10/labels_gen_random_10.json\"\n",
    "combined_annotation_output_path = \"../Data/FBA_dataset/experiments/increasing_overall_performance/real_and_gen10/combined_annotations.json\"\n",
    "\n",
    "ExperimentUtils.merge_coco_annotations(real_images_ann_path, generated_images_ann_path, combined_annotation_output_path)"
   ]
  },
  {
   "cell_type": "markdown",
   "metadata": {},
   "source": [
    "------------\n",
    "#### Experiment II\n",
    "- Adding 20 images generated with random prompts to the training dataset"
   ]
  },
  {
   "cell_type": "code",
   "execution_count": 4,
   "metadata": {},
   "outputs": [
    {
     "name": "stdout",
     "output_type": "stream",
     "text": [
      "86 files are copied to ../Data/FBA_dataset/experiments/increasing_overall_performance/real_and_gen20/.\n",
      "20 files are copied to ../Data/FBA_dataset/experiments/increasing_overall_performance/real_and_gen20/.\n"
     ]
    }
   ],
   "source": [
    "images_dir = \"../Data/FBA_dataset/train/images/\"\n",
    "\n",
    "experiment_images_dir = \"../Data/FBA_dataset/experiments/increasing_overall_performance/real_and_gen20/\"\n",
    "generated_images_dir = \"../Data/FBA_dataset/generated/random/gen_20\"\n",
    "\n",
    "CommonMethods.copy_image_files_to_directory(images_dir, experiment_images_dir)\n",
    "CommonMethods.copy_image_files_to_directory(generated_images_dir, experiment_images_dir)"
   ]
  },
  {
   "cell_type": "code",
   "execution_count": 5,
   "metadata": {},
   "outputs": [
    {
     "name": "stdout",
     "output_type": "stream",
     "text": [
      "Merged annotations saved as ../Data/FBA_dataset/experiments/increasing_overall_performance/real_and_gen20/combined_annotations.json\n"
     ]
    }
   ],
   "source": [
    "real_images_ann_path = \"../Data/FBA_dataset/train/images/train_labels.json\"\n",
    "generated_images_ann_path = \"../Data/FBA_dataset/generated/random/gen_20/labels_gen_20_random.json\"\n",
    "combined_annotation_output_path = \"../Data/FBA_dataset/experiments/increasing_overall_performance/real_and_gen20/combined_annotations.json\"\n",
    "\n",
    "ExperimentUtils.merge_coco_annotations(real_images_ann_path, generated_images_ann_path, combined_annotation_output_path)"
   ]
  },
  {
   "cell_type": "markdown",
   "metadata": {},
   "source": [
    "------------\n",
    "#### Experiment III\n",
    "- Adding 30 images generated with random prompts to the training dataset"
   ]
  },
  {
   "cell_type": "code",
   "execution_count": 6,
   "metadata": {},
   "outputs": [
    {
     "name": "stdout",
     "output_type": "stream",
     "text": [
      "86 files are copied to ../Data/FBA_dataset/experiments/increasing_overall_performance/real_and_gen30/.\n",
      "30 files are copied to ../Data/FBA_dataset/experiments/increasing_overall_performance/real_and_gen30/.\n"
     ]
    }
   ],
   "source": [
    "images_dir = \"../Data/FBA_dataset/train/images/\"\n",
    "\n",
    "experiment_images_dir = \"../Data/FBA_dataset/experiments/increasing_overall_performance/real_and_gen30/\"\n",
    "generated_images_dir = \"../Data/FBA_dataset/generated/random/gen_30\"\n",
    "\n",
    "CommonMethods.copy_image_files_to_directory(images_dir, experiment_images_dir)\n",
    "CommonMethods.copy_image_files_to_directory(generated_images_dir, experiment_images_dir)"
   ]
  },
  {
   "cell_type": "code",
   "execution_count": 7,
   "metadata": {},
   "outputs": [
    {
     "name": "stdout",
     "output_type": "stream",
     "text": [
      "Merged annotations saved as ../Data/FBA_dataset/experiments/increasing_overall_performance/real_and_gen30/combined_annotations.json\n"
     ]
    }
   ],
   "source": [
    "real_images_ann_path = \"../Data/FBA_dataset/train/images/train_labels.json\"\n",
    "generated_images_ann_path = \"../Data/FBA_dataset/generated/random/gen_30/labels_gen_30_random.json\"\n",
    "combined_annotation_output_path = \"../Data/FBA_dataset/experiments/increasing_overall_performance/real_and_gen30/combined_annotations.json\"\n",
    "\n",
    "ExperimentUtils.merge_coco_annotations(real_images_ann_path, generated_images_ann_path, combined_annotation_output_path)"
   ]
  },
  {
   "cell_type": "markdown",
   "metadata": {},
   "source": [
    "------------\n",
    "#### Experiment IV\n",
    "- Adding 40 images generated with random prompts to the training dataset"
   ]
  },
  {
   "cell_type": "code",
   "execution_count": 8,
   "metadata": {},
   "outputs": [
    {
     "name": "stdout",
     "output_type": "stream",
     "text": [
      "86 files are copied to ../Data/FBA_dataset/experiments/increasing_overall_performance/real_and_gen40/.\n",
      "40 files are copied to ../Data/FBA_dataset/experiments/increasing_overall_performance/real_and_gen40/.\n"
     ]
    }
   ],
   "source": [
    "images_dir = \"../Data/FBA_dataset/train/images/\"\n",
    "\n",
    "experiment_images_dir = \"../Data/FBA_dataset/experiments/increasing_overall_performance/real_and_gen40/\"\n",
    "generated_images_dir = \"../Data/FBA_dataset/generated/random/gen_40\"\n",
    "\n",
    "CommonMethods.copy_image_files_to_directory(images_dir, experiment_images_dir)\n",
    "CommonMethods.copy_image_files_to_directory(generated_images_dir, experiment_images_dir)"
   ]
  },
  {
   "cell_type": "code",
   "execution_count": 9,
   "metadata": {},
   "outputs": [
    {
     "name": "stdout",
     "output_type": "stream",
     "text": [
      "Merged annotations saved as ../Data/FBA_dataset/experiments/increasing_overall_performance/real_and_gen40/combined_annotations.json\n"
     ]
    }
   ],
   "source": [
    "real_images_ann_path = \"../Data/FBA_dataset/train/images/train_labels.json\"\n",
    "generated_images_ann_path = \"../Data/FBA_dataset/generated/random/gen_40/labels_gen_40_random.json\"\n",
    "combined_annotation_output_path = \"../Data/FBA_dataset/experiments/increasing_overall_performance/real_and_gen40/combined_annotations.json\"\n",
    "\n",
    "ExperimentUtils.merge_coco_annotations(real_images_ann_path, generated_images_ann_path, combined_annotation_output_path)"
   ]
  },
  {
   "cell_type": "markdown",
   "metadata": {},
   "source": [
    "------------\n",
    "#### Experiment V\n",
    "- Adding 50 images generated with random prompts to the training dataset"
   ]
  },
  {
   "cell_type": "code",
   "execution_count": 10,
   "metadata": {},
   "outputs": [
    {
     "name": "stdout",
     "output_type": "stream",
     "text": [
      "86 files are copied to ../Data/FBA_dataset/experiments/increasing_overall_performance/real_and_gen50/.\n",
      "50 files are copied to ../Data/FBA_dataset/experiments/increasing_overall_performance/real_and_gen50/.\n"
     ]
    }
   ],
   "source": [
    "images_dir = \"../Data/FBA_dataset/train/images/\"\n",
    "\n",
    "experiment_images_dir = \"../Data/FBA_dataset/experiments/increasing_overall_performance/real_and_gen50/\"\n",
    "generated_images_dir = \"../Data/FBA_dataset/generated/random/gen_50\"\n",
    "\n",
    "CommonMethods.copy_image_files_to_directory(images_dir, experiment_images_dir)\n",
    "CommonMethods.copy_image_files_to_directory(generated_images_dir, experiment_images_dir)"
   ]
  },
  {
   "cell_type": "code",
   "execution_count": 11,
   "metadata": {},
   "outputs": [
    {
     "name": "stdout",
     "output_type": "stream",
     "text": [
      "Merged annotations saved as ../Data/FBA_dataset/experiments/increasing_overall_performance/real_and_gen50/combined_annotations.json\n"
     ]
    }
   ],
   "source": [
    "real_images_ann_path = \"../Data/FBA_dataset/train/images/train_labels.json\"\n",
    "generated_images_ann_path = \"../Data/FBA_dataset/generated/random/gen_50/labels_gen_50_random.json\"\n",
    "combined_annotation_output_path = \"../Data/FBA_dataset/experiments/increasing_overall_performance/real_and_gen50/combined_annotations.json\"\n",
    "\n",
    "ExperimentUtils.merge_coco_annotations(real_images_ann_path, generated_images_ann_path, combined_annotation_output_path)"
   ]
  }
 ],
 "metadata": {
  "kernelspec": {
   "display_name": "thesisProjectTestEnv",
   "language": "python",
   "name": "python3"
  },
  "language_info": {
   "codemirror_mode": {
    "name": "ipython",
    "version": 3
   },
   "file_extension": ".py",
   "mimetype": "text/x-python",
   "name": "python",
   "nbconvert_exporter": "python",
   "pygments_lexer": "ipython3",
   "version": "3.10.12"
  }
 },
 "nbformat": 4,
 "nbformat_minor": 2
}
