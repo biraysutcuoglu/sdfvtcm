{
 "cells": [
  {
   "cell_type": "code",
   "execution_count": 2,
   "metadata": {},
   "outputs": [],
   "source": [
    "%load_ext autoreload\n",
    "%autoreload 2\n",
    "\n",
    "import os\n",
    "target_dir = \"sdfvtcm\"\n",
    "cwd = os.getcwd()\n",
    "if not cwd.endswith(target_dir):\n",
    "    os.chdir(os.pardir)\n",
    "\n",
    "from common.common_methods import CommonMethods"
   ]
  },
  {
   "cell_type": "code",
   "execution_count": 4,
   "metadata": {},
   "outputs": [],
   "source": [
    "real_images_dir = \"./Data/Tool_dataset/images/\"\n",
    "real_masks_dir = \"./Data/Tool_dataset/masks\""
   ]
  },
  {
   "cell_type": "markdown",
   "metadata": {},
   "source": [
    "Adding 10 images"
   ]
  },
  {
   "cell_type": "code",
   "execution_count": null,
   "metadata": {},
   "outputs": [
    {
     "name": "stdout",
     "output_type": "stream",
     "text": [
      "106 files are copied to ./Data/Tool_dataset/experiments/real_and_gen10_images/.\n",
      "10 files are copied to ./Data/Tool_dataset/experiments/real_and_gen10_images/.\n",
      "106 files are copied to ./Data/Tool_dataset/experiments/real_and_gen10_masks/.\n",
      "10 files are copied to ./Data/Tool_dataset/experiments/real_and_gen10_masks/.\n"
     ]
    }
   ],
   "source": [
    "generated_images_dir = \"./Data/Tool_dataset/generated/gen_10/generated_10\"\n",
    "generated_masks_dir = \"./Data/Tool_dataset/generated/gen_10/binary_masks_10\"\n",
    "\n",
    "experiment_images_dir = \"./Data/Tool_dataset/experiments/real_and_gen_10/real_and_gen10_images/\"\n",
    "experiment_masks_dir = \"./Data/Tool_dataset/experiments/real_and_gen_10/real_and_gen10_masks/\"\n",
    "\n",
    "# copy real images\n",
    "CommonMethods.copy_image_files_to_directory(real_images_dir, experiment_images_dir)\n",
    "# copy generated images\n",
    "CommonMethods.copy_image_files_to_directory(generated_images_dir, experiment_images_dir)\n",
    "\n",
    "# copy real masks\n",
    "CommonMethods.copy_image_files_to_directory(real_masks_dir, experiment_masks_dir)\n",
    "# copy generated masks\n",
    "CommonMethods.copy_image_files_to_directory(generated_masks_dir, experiment_masks_dir)"
   ]
  },
  {
   "cell_type": "markdown",
   "metadata": {},
   "source": [
    "Adding 20 images"
   ]
  },
  {
   "cell_type": "code",
   "execution_count": 3,
   "metadata": {},
   "outputs": [
    {
     "name": "stdout",
     "output_type": "stream",
     "text": [
      "106 files are copied to ./Data/Tool_dataset/experiments/real_and_gen_20/real_and_gen_20_images/.\n",
      "20 files are copied to ./Data/Tool_dataset/experiments/real_and_gen_20/real_and_gen_20_images/.\n",
      "106 files are copied to ./Data/Tool_dataset/experiments/real_and_gen_20/real_and_gen_20_masks/.\n",
      "20 files are copied to ./Data/Tool_dataset/experiments/real_and_gen_20/real_and_gen_20_masks/.\n"
     ]
    }
   ],
   "source": [
    "generated_images_dir = \"./Data/Tool_dataset/generated/gen_20/generated_20\"\n",
    "generated_masks_dir = \"./Data/Tool_dataset/generated/gen_20/binary_masks_20\"\n",
    "\n",
    "experiment_images_dir = \"./Data/Tool_dataset/experiments/real_and_gen_20/real_and_gen_20_images/\"\n",
    "experiment_masks_dir = \"./Data/Tool_dataset/experiments/real_and_gen_20/real_and_gen_20_masks/\"\n",
    "\n",
    "# copy real images\n",
    "CommonMethods.copy_image_files_to_directory(real_images_dir, experiment_images_dir)\n",
    "# copy generated images\n",
    "CommonMethods.copy_image_files_to_directory(generated_images_dir, experiment_images_dir)\n",
    "\n",
    "# copy real masks\n",
    "CommonMethods.copy_image_files_to_directory(real_masks_dir, experiment_masks_dir)\n",
    "# copy generated masks\n",
    "CommonMethods.copy_image_files_to_directory(generated_masks_dir, experiment_masks_dir)"
   ]
  },
  {
   "cell_type": "code",
   "execution_count": 5,
   "metadata": {},
   "outputs": [
    {
     "name": "stdout",
     "output_type": "stream",
     "text": [
      "106 files are copied to ./Data/Tool_dataset/experiments/real_and_gen_30/real_and_gen_30_images/.\n",
      "30 files are copied to ./Data/Tool_dataset/experiments/real_and_gen_30/real_and_gen_30_images/.\n",
      "106 files are copied to ./Data/Tool_dataset/experiments/real_and_gen_30/real_and_gen_30_masks/.\n",
      "30 files are copied to ./Data/Tool_dataset/experiments/real_and_gen_30/real_and_gen_30_masks/.\n"
     ]
    }
   ],
   "source": [
    "real_images_dir = \"./Data/Tool_dataset/images/\"\n",
    "real_masks_dir = \"./Data/Tool_dataset/masks\"\n",
    "\n",
    "generated_images_dir = \"./Data/Tool_dataset/generated/gen_30/generated_30\"\n",
    "generated_masks_dir = \"./Data/Tool_dataset/generated/gen_30/binary_masks_30\"\n",
    "\n",
    "experiment_images_dir = \"./Data/Tool_dataset/experiments/real_and_gen_30/real_and_gen_30_images/\"\n",
    "experiment_masks_dir = \"./Data/Tool_dataset/experiments/real_and_gen_30/real_and_gen_30_masks/\"\n",
    "\n",
    "# copy real images\n",
    "CommonMethods.copy_image_files_to_directory(real_images_dir, experiment_images_dir)\n",
    "# copy generated images\n",
    "CommonMethods.copy_image_files_to_directory(generated_images_dir, experiment_images_dir)\n",
    "\n",
    "# copy real masks\n",
    "CommonMethods.copy_image_files_to_directory(real_masks_dir, experiment_masks_dir)\n",
    "# copy generated masks\n",
    "CommonMethods.copy_image_files_to_directory(generated_masks_dir, experiment_masks_dir)"
   ]
  }
 ],
 "metadata": {
  "kernelspec": {
   "display_name": "thesis-all-modules-env",
   "language": "python",
   "name": "python3"
  },
  "language_info": {
   "codemirror_mode": {
    "name": "ipython",
    "version": 3
   },
   "file_extension": ".py",
   "mimetype": "text/x-python",
   "name": "python",
   "nbconvert_exporter": "python",
   "pygments_lexer": "ipython3",
   "version": "3.13.1"
  }
 },
 "nbformat": 4,
 "nbformat_minor": 2
}
