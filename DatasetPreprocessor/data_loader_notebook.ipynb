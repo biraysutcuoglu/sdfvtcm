{
 "cells": [
  {
   "cell_type": "code",
   "execution_count": 1,
   "metadata": {},
   "outputs": [
    {
     "name": "stderr",
     "output_type": "stream",
     "text": [
      "/home/bsuetcueoglu/testprojectthesis/thesistest/thesisProjectTestEnv/lib/python3.10/site-packages/tqdm/auto.py:21: TqdmWarning: IProgress not found. Please update jupyter and ipywidgets. See https://ipywidgets.readthedocs.io/en/stable/user_install.html\n",
      "  from .autonotebook import tqdm as notebook_tqdm\n"
     ]
    }
   ],
   "source": [
    "%load_ext autoreload\n",
    "%autoreload 2 \n",
    "\n",
    "from datasets import load_dataset\n",
    "import os\n",
    "import matplotlib.pyplot as plt\n",
    "import sys\n",
    "from PIL import Image\n",
    "import cv2\n",
    "import numpy as np\n",
    "\n",
    "from src.image_preprocessor_utils import ImageUtils\n",
    "\n",
    "sys.path.append(os.path.abspath(os.path.join(os.getcwd(), '..')))\n",
    "from common.common_methods import CommonMethods"
   ]
  },
  {
   "cell_type": "markdown",
   "metadata": {},
   "source": [
    "- Resize images for Stable Diffusion and Resize back the Generated Images\n",
    "- Loads dataset to HuggingFace"
   ]
  },
  {
   "cell_type": "markdown",
   "metadata": {},
   "source": [
    "Select resizing alg. lanczos, bicubic or letterbox and move the prompts (metadata) file to resized images folder"
   ]
  },
  {
   "cell_type": "code",
   "execution_count": 2,
   "metadata": {},
   "outputs": [],
   "source": [
    "config_file_path = \"./preprocessor_config.yaml\"\n",
    "config = CommonMethods.read_yaml(config_file_path)\n",
    "\n",
    "input_images_dir = config[\"dataloader\"][\"images_to_be_resized_path\"]\n",
    "resized_images_dir = config[\"dataloader\"][\"resized_images_dir\"]"
   ]
  },
  {
   "cell_type": "code",
   "execution_count": null,
   "metadata": {},
   "outputs": [
    {
     "name": "stdout",
     "output_type": "stream",
     "text": [
      "86 images are resized to 1024x1024 using lanczos and saved to ../Data/resized_fba_with_lanczos_wo_wearscores_refactoredlabels\n",
      "Metadata file metadata.jsonl copied to ../Data/resized_fba_with_lanczos_wo_wearscores_refactoredlabels\n"
     ]
    }
   ],
   "source": [
    "ImageUtils.resize_all_images(input_images_dir, resized_images_dir, \"lanczos\", 1024, 1024)\n",
    "ImageUtils.copy_metadata_file_to_resized_images_dir(input_images_dir, resized_images_dir) # metadata includes labels of the images"
   ]
  },
  {
   "cell_type": "markdown",
   "metadata": {},
   "source": [
    "Create HuggingFace dataset\n",
    "- This dataset is going to be used for finetuning Stable Diffusion."
   ]
  },
  {
   "cell_type": "code",
   "execution_count": 15,
   "metadata": {},
   "outputs": [
    {
     "name": "stderr",
     "output_type": "stream",
     "text": [
      "Downloading data: 100%|██████████| 87/87 [00:00<00:00, 383302.99files/s]\n",
      "Generating train split: 86 examples [00:00, 14582.40 examples/s]\n",
      "Map: 100%|██████████| 86/86 [00:00<00:00, 138.59 examples/s] ?it/s]\n",
      "Creating parquet from Arrow format: 100%|██████████| 1/1 [00:01<00:00,  1.21s/ba]\n",
      "Uploading the dataset shards: 100%|██████████| 1/1 [00:27<00:00, 27.47s/it]\n"
     ]
    },
    {
     "data": {
      "text/plain": [
       "CommitInfo(commit_url='https://huggingface.co/datasets/artisanalwasp/resized_fba_with_lanczos_wo_wearscores_refactoredlabels/commit/b203907d297bf3d38faacc1094974e71816048ad', commit_message='Upload dataset', commit_description='', oid='b203907d297bf3d38faacc1094974e71816048ad', pr_url=None, repo_url=RepoUrl('https://huggingface.co/datasets/artisanalwasp/resized_fba_with_lanczos_wo_wearscores_refactoredlabels', endpoint='https://huggingface.co', repo_type='dataset', repo_id='artisanalwasp/resized_fba_with_lanczos_wo_wearscores_refactoredlabels'), pr_revision=None, pr_num=None)"
      ]
     },
     "execution_count": 15,
     "metadata": {},
     "output_type": "execute_result"
    }
   ],
   "source": [
    "dataset = load_dataset(\"imagefolder\", data_dir=resized_images_dir, drop_labels=\"True\")\n",
    "\n",
    "huggingface_dataset_link = config[\"dataloader\"][\"huggingface_dataset_link\"]\n",
    "dataset.push_to_hub(huggingface_dataset_link)"
   ]
  },
  {
   "cell_type": "code",
   "execution_count": 16,
   "metadata": {},
   "outputs": [
    {
     "name": "stderr",
     "output_type": "stream",
     "text": [
      "Generating train split: 100%|██████████| 86/86 [00:01<00:00, 79.33 examples/s]"
     ]
    },
    {
     "name": "stdout",
     "output_type": "stream",
     "text": [
      "DatasetDict({\n",
      "    train: Dataset({\n",
      "        features: ['image', 'text'],\n",
      "        num_rows: 86\n",
      "    })\n",
      "})\n"
     ]
    },
    {
     "name": "stderr",
     "output_type": "stream",
     "text": [
      "\n"
     ]
    }
   ],
   "source": [
    "hf_dataset = load_dataset(huggingface_dataset_link)\n",
    "print(hf_dataset)"
   ]
  },
  {
   "cell_type": "markdown",
   "metadata": {},
   "source": [
    "--------------------------------------------------------------------------------------------------------------------------------------------------"
   ]
  },
  {
   "cell_type": "markdown",
   "metadata": {},
   "source": [
    "Resize the generated images to the original image size to be used in training Stable Diffusion Model"
   ]
  },
  {
   "cell_type": "code",
   "execution_count": null,
   "metadata": {},
   "outputs": [
    {
     "name": "stdout",
     "output_type": "stream",
     "text": [
      "The autoreload extension is already loaded. To reload it, use:\n",
      "  %reload_ext autoreload\n"
     ]
    }
   ],
   "source": [
    "%load_ext autoreload\n",
    "%autoreload 2 \n",
    "\n",
    "import sys\n",
    "import os\n",
    "sys.path.append(os.path.abspath(os.path.join(os.getcwd(), '..')))\n",
    "from common.common_methods import CommonMethods\n",
    "from src.image_preprocessor_utils import ImageUtils\n",
    "\n",
    "config_file_path = \"./preprocessor_config.yaml\"\n",
    "config = CommonMethods.read_yaml(config_file_path)\n",
    "\n",
    "generated_im_dir = config[\"dataloader\"][\"generated_images_dir\"]\n",
    "resized_gen_im_dir = \"../Data/FBA_dataset/generated/bue/gen15/resized\""
   ]
  },
  {
   "cell_type": "code",
   "execution_count": null,
   "metadata": {},
   "outputs": [],
   "source": [
    "ImageUtils.resize_all_images(generated_im_dir, resized_gen_im_dir, \"lanczos\", target_image_width=1280, target_image_height=1024)\n",
    "ImageUtils.png_to_bmp_all_images(resized_gen_im_dir, \"../Data/FBA_dataset/generated/bue/gen15/resized_bmp\")"
   ]
  }
 ],
 "metadata": {
  "kernelspec": {
   "display_name": "thesisProjectTestEnv",
   "language": "python",
   "name": "python3"
  },
  "language_info": {
   "codemirror_mode": {
    "name": "ipython",
    "version": 3
   },
   "file_extension": ".py",
   "mimetype": "text/x-python",
   "name": "python",
   "nbconvert_exporter": "python",
   "pygments_lexer": "ipython3",
   "version": "3.10.12"
  }
 },
 "nbformat": 4,
 "nbformat_minor": 2
}
