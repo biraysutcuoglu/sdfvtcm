{
 "cells": [
  {
   "cell_type": "code",
   "execution_count": null,
   "metadata": {},
   "outputs": [
    {
     "name": "stdout",
     "output_type": "stream",
     "text": [
      "The autoreload extension is already loaded. To reload it, use:\n",
      "  %reload_ext autoreload\n",
      "Current working dir:  /home/bsuetcueoglu/MastersThesis/sdfvtcm/DatasetPreprocessor\n"
     ]
    }
   ],
   "source": [
    "%load_ext autoreload\n",
    "%autoreload 2\n",
    "\n",
    "import numpy as np\n",
    "import os \n",
    "from datasets import load_dataset\n",
    "\n",
    "from src.image_labeler_from_binary  import ImageLabeler\n",
    "from src.image_preprocessor_utils import ImageUtils"
   ]
  },
  {
   "cell_type": "markdown",
   "metadata": {},
   "source": [
    "This notebook does the following operations on the Tool Dataset:\n",
    "- Generates the image labels from the binary masks\n",
    "- Resizes the images to 1024x1024 to be suitable for training the Stable Diffusion Model.\n",
    "- Creates a huggingface dataset from the resized images and their generated labels and loads it to the huggingface. "
   ]
  },
  {
   "cell_type": "markdown",
   "metadata": {},
   "source": [
    "1. Generate Image Labels "
   ]
  },
  {
   "cell_type": "code",
   "execution_count": null,
   "metadata": {},
   "outputs": [],
   "source": [
    "mask_dir = \"../Data/Tool_dataset/binary_masks/\"\n",
    "wear_dict = ImageLabeler.measure_wear_all_images(mask_dir)"
   ]
  },
  {
   "cell_type": "code",
   "execution_count": null,
   "metadata": {},
   "outputs": [
    {
     "name": "stdout",
     "output_type": "stream",
     "text": [
      "Number of images: 106\n",
      "Max wear value: 427 in file 10_4_3.png\n",
      "Min wear value: 8 in file 9_3_4.png\n",
      "\n",
      "Number of images in each category: \n",
      "Low Wear: 67\n",
      "Moderate Wear: 23\n",
      "High Wear: 16\n"
     ]
    }
   ],
   "source": [
    "categorized_wear = ImageLabeler.assign_categories(wear_dict)\n",
    "ImageLabeler.display_wear_info(wear_dict, categorized_wear)"
   ]
  },
  {
   "cell_type": "markdown",
   "metadata": {},
   "source": [
    "2. Resize all images"
   ]
  },
  {
   "cell_type": "code",
   "execution_count": null,
   "metadata": {},
   "outputs": [
    {
     "name": "stdout",
     "output_type": "stream",
     "text": [
      "106 images are resized to 1024x1024 using lanczos and saved to Data/Tool_dataset/resized_images/\n"
     ]
    }
   ],
   "source": [
    "image_dir = \"../Data/Tool_dataset/images/\"\n",
    "resized_image_dir = \"../Data/Tool_dataset/resized_images/\"\n",
    "\n",
    "ImageUtils.resize_all_images(image_dir, resized_image_dir, \"lanczos\", 1024, 1024)"
   ]
  },
  {
   "cell_type": "code",
   "execution_count": null,
   "metadata": {},
   "outputs": [
    {
     "name": "stdout",
     "output_type": "stream",
     "text": [
      "Labels of 106 images, written to Data/Tool_dataset/resized_images/metadata.jsonl\n"
     ]
    }
   ],
   "source": [
    "ImageLabeler.generate_image_prompts(categorized_wear, resized_image_dir)"
   ]
  },
  {
   "cell_type": "markdown",
   "metadata": {},
   "source": [
    "3. Load images and labels to huggingface"
   ]
  },
  {
   "cell_type": "code",
   "execution_count": 7,
   "metadata": {},
   "outputs": [
    {
     "data": {
      "application/vnd.jupyter.widget-view+json": {
       "model_id": "d41162c442f247169fd00b529d2ad6a1",
       "version_major": 2,
       "version_minor": 0
      },
      "text/plain": [
       "Resolving data files:   0%|          | 0/107 [00:00<?, ?it/s]"
      ]
     },
     "metadata": {},
     "output_type": "display_data"
    },
    {
     "data": {
      "application/vnd.jupyter.widget-view+json": {
       "model_id": "8f7f1819b2ae4bf4a30b00280e49e5ba",
       "version_major": 2,
       "version_minor": 0
      },
      "text/plain": [
       "Downloading data:   0%|          | 0/107 [00:00<?, ?files/s]"
      ]
     },
     "metadata": {},
     "output_type": "display_data"
    },
    {
     "data": {
      "application/vnd.jupyter.widget-view+json": {
       "model_id": "9bb9ec7afd8b4dcd9645115bedd80d8e",
       "version_major": 2,
       "version_minor": 0
      },
      "text/plain": [
       "Generating train split: 0 examples [00:00, ? examples/s]"
      ]
     },
     "metadata": {},
     "output_type": "display_data"
    },
    {
     "data": {
      "application/vnd.jupyter.widget-view+json": {
       "model_id": "6ac4b0fe439e4dbd8c630a99f4caede8",
       "version_major": 2,
       "version_minor": 0
      },
      "text/plain": [
       "Uploading the dataset shards:   0%|          | 0/1 [00:00<?, ?it/s]"
      ]
     },
     "metadata": {},
     "output_type": "display_data"
    },
    {
     "data": {
      "application/vnd.jupyter.widget-view+json": {
       "model_id": "424463fb684241dda006693cb29c0684",
       "version_major": 2,
       "version_minor": 0
      },
      "text/plain": [
       "Map:   0%|          | 0/106 [00:00<?, ? examples/s]"
      ]
     },
     "metadata": {},
     "output_type": "display_data"
    },
    {
     "data": {
      "application/vnd.jupyter.widget-view+json": {
       "model_id": "20a03de955904f39b9b1abe0c79e3575",
       "version_major": 2,
       "version_minor": 0
      },
      "text/plain": [
       "Creating parquet from Arrow format:   0%|          | 0/2 [00:00<?, ?ba/s]"
      ]
     },
     "metadata": {},
     "output_type": "display_data"
    },
    {
     "data": {
      "text/plain": [
       "CommitInfo(commit_url='https://huggingface.co/datasets/artisanalwasp/resized_tool_dataset/commit/48ce5f86ed968907be1dd2960c668068ebead3a4', commit_message='Upload dataset', commit_description='', oid='48ce5f86ed968907be1dd2960c668068ebead3a4', pr_url=None, repo_url=RepoUrl('https://huggingface.co/datasets/artisanalwasp/resized_tool_dataset', endpoint='https://huggingface.co', repo_type='dataset', repo_id='artisanalwasp/resized_tool_dataset'), pr_revision=None, pr_num=None)"
      ]
     },
     "execution_count": 7,
     "metadata": {},
     "output_type": "execute_result"
    }
   ],
   "source": [
    "dataset = load_dataset(\"imagefolder\", data_dir=resized_image_dir, drop_labels=\"True\")\n",
    "\n",
    "huggingface_dataset_link = \"artisanalwasp/resized_tool_dataset\"\n",
    "dataset.push_to_hub(huggingface_dataset_link)"
   ]
  }
 ],
 "metadata": {
  "kernelspec": {
   "display_name": "detectron2-env",
   "language": "python",
   "name": "python3"
  },
  "language_info": {
   "codemirror_mode": {
    "name": "ipython",
    "version": 3
   },
   "file_extension": ".py",
   "mimetype": "text/x-python",
   "name": "python",
   "nbconvert_exporter": "python",
   "pygments_lexer": "ipython3",
   "version": "3.10.15"
  }
 },
 "nbformat": 4,
 "nbformat_minor": 2
}
